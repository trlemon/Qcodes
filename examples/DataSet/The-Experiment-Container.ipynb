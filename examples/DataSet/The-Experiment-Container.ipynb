{
 "cells": [
  {
   "cell_type": "markdown",
   "metadata": {},
   "source": [
    "# The Experiment Container\n",
    "\n",
    "This notebook explains how the database works as an experiment container."
   ]
  },
  {
   "cell_type": "markdown",
   "metadata": {},
   "source": [
    "## Required imports"
   ]
  },
  {
   "cell_type": "code",
   "execution_count": 1,
   "metadata": {
    "execution": {
     "iopub.execute_input": "2025-10-27T15:40:36.771605Z",
     "iopub.status.busy": "2025-10-27T15:40:36.771412Z",
     "iopub.status.idle": "2025-10-27T15:40:37.113379Z",
     "shell.execute_reply": "2025-10-27T15:40:37.112342Z"
    }
   },
   "outputs": [],
   "source": [
    "from pathlib import Path\n",
    "\n",
    "from qcodes.dataset import (\n",
    "    connect,\n",
    "    experiments,\n",
    "    get_default_experiment_id,\n",
    "    initialise_or_create_database_at,\n",
    "    load_experiment,\n",
    "    load_experiment_by_name,\n",
    "    load_last_experiment,\n",
    "    load_or_create_experiment,\n",
    "    new_data_set,\n",
    "    new_experiment,\n",
    "    reset_default_experiment_id,\n",
    ")"
   ]
  },
  {
   "cell_type": "markdown",
   "metadata": {},
   "source": [
    "## The experiments inside the database"
   ]
  },
  {
   "cell_type": "code",
   "execution_count": 2,
   "metadata": {
    "execution": {
     "iopub.execute_input": "2025-10-27T15:40:37.115179Z",
     "iopub.status.busy": "2025-10-27T15:40:37.114928Z",
     "iopub.status.idle": "2025-10-27T15:40:37.138674Z",
     "shell.execute_reply": "2025-10-27T15:40:37.137885Z"
    }
   },
   "outputs": [],
   "source": [
    "db_file_path = Path.cwd().parent / \"example_output\" / \"exp_container_tutorial.db\"\n",
    "initialise_or_create_database_at(db_file_path)"
   ]
  },
  {
   "cell_type": "markdown",
   "metadata": {},
   "source": [
    "The database holds a certain number of **experiments**. They may be viewed:"
   ]
  },
  {
   "cell_type": "code",
   "execution_count": 3,
   "metadata": {
    "execution": {
     "iopub.execute_input": "2025-10-27T15:40:37.140351Z",
     "iopub.status.busy": "2025-10-27T15:40:37.140184Z",
     "iopub.status.idle": "2025-10-27T15:40:37.146026Z",
     "shell.execute_reply": "2025-10-27T15:40:37.145222Z"
    }
   },
   "outputs": [
    {
     "data": {
      "text/plain": [
       "[]"
      ]
     },
     "execution_count": 3,
     "metadata": {},
     "output_type": "execute_result"
    }
   ],
   "source": [
    "experiments()"
   ]
  },
  {
   "cell_type": "markdown",
   "metadata": {},
   "source": [
    "Not surprisingly, our new database is empty.\n",
    "\n",
    "We now introduce a term that we call the **default experiment**. In short, it is the experiment that will be used for a QCoDeS `DataSet`, if the user do not explicitly pass an experiment into objects that create that `DataSet`. In another word, that `DataSet` will be belong to the default experiment. We do not want to go into the details of `DataSet` here, and refer to the [DataSet notebook](https://microsoft.github.io/Qcodes/examples/DataSet/DataSet-class-walkthrough.html) and [Performing measurements using qcodes parameters and dataset](https://microsoft.github.io/Qcodes/examples/DataSet/Performing-measurements-using-qcodes-parameters-and-dataset.html) for what we mean from `DataSet` and how we can pass an experiment explicitly.\n",
    "\n",
    "By default, the last experiment in the database is the default experiment. The default experiment can be changed if another experiment in the database is created or loaded. We will explore this in this notebook. \n",
    "\n",
    "Users should not worry about checking the default experiment in their normal workflow, but in this notebook, we show how it works to let them have an idea what the default experiment is and how it changes.  "
   ]
  },
  {
   "cell_type": "markdown",
   "metadata": {},
   "source": [
    "We need a connection to our database to get which experiment is the default one:"
   ]
  },
  {
   "cell_type": "code",
   "execution_count": 4,
   "metadata": {
    "execution": {
     "iopub.execute_input": "2025-10-27T15:40:37.147420Z",
     "iopub.status.busy": "2025-10-27T15:40:37.147264Z",
     "iopub.status.idle": "2025-10-27T15:40:37.150254Z",
     "shell.execute_reply": "2025-10-27T15:40:37.149666Z"
    }
   },
   "outputs": [],
   "source": [
    "conn = connect(db_file_path)"
   ]
  },
  {
   "cell_type": "markdown",
   "metadata": {},
   "source": [
    "Because our database is empty now, asking for the default experiment will rasie an error asking to create an experiment. So, let's add some experiments to explore more:"
   ]
  },
  {
   "cell_type": "code",
   "execution_count": 5,
   "metadata": {
    "execution": {
     "iopub.execute_input": "2025-10-27T15:40:37.151843Z",
     "iopub.status.busy": "2025-10-27T15:40:37.151697Z",
     "iopub.status.idle": "2025-10-27T15:40:37.157980Z",
     "shell.execute_reply": "2025-10-27T15:40:37.157341Z"
    }
   },
   "outputs": [],
   "source": [
    "exp_a = new_experiment(\"first_exp\", sample_name=\"old_sample\")\n",
    "exp_b = new_experiment(\"second_exp\", sample_name=\"slightly_newer_sample\")\n",
    "exp_c = load_or_create_experiment(\"third_exp\", sample_name=\"brand_new_sample\")"
   ]
  },
  {
   "cell_type": "markdown",
   "metadata": {},
   "source": [
    "We recommend using the `load_or_create_experiment` function as the primary function dealing with experiments, not only because it is the most versatile function, but also because it can prevent creating duplicate experiments in one database."
   ]
  },
  {
   "cell_type": "code",
   "execution_count": 6,
   "metadata": {
    "execution": {
     "iopub.execute_input": "2025-10-27T15:40:37.159422Z",
     "iopub.status.busy": "2025-10-27T15:40:37.159284Z",
     "iopub.status.idle": "2025-10-27T15:40:37.163805Z",
     "shell.execute_reply": "2025-10-27T15:40:37.163140Z"
    }
   },
   "outputs": [
    {
     "data": {
      "text/plain": [
       "[first_exp#old_sample#1@/home/runner/work/Qcodes/Qcodes/docs/examples/example_output/exp_container_tutorial.db\n",
       " -------------------------------------------------------------------------------------------------------------,\n",
       " second_exp#slightly_newer_sample#2@/home/runner/work/Qcodes/Qcodes/docs/examples/example_output/exp_container_tutorial.db\n",
       " -------------------------------------------------------------------------------------------------------------------------,\n",
       " third_exp#brand_new_sample#3@/home/runner/work/Qcodes/Qcodes/docs/examples/example_output/exp_container_tutorial.db\n",
       " -------------------------------------------------------------------------------------------------------------------]"
      ]
     },
     "execution_count": 6,
     "metadata": {},
     "output_type": "execute_result"
    }
   ],
   "source": [
    "experiments()"
   ]
  },
  {
   "cell_type": "markdown",
   "metadata": {},
   "source": [
    "We notice that each experiment is labelled by an integer number, which is the `exp_id`. This ID can be used when looking up properties of each experiment."
   ]
  },
  {
   "cell_type": "markdown",
   "metadata": {},
   "source": [
    "Let's check to see which experiment is the default now:"
   ]
  },
  {
   "cell_type": "code",
   "execution_count": 7,
   "metadata": {
    "execution": {
     "iopub.execute_input": "2025-10-27T15:40:37.165233Z",
     "iopub.status.busy": "2025-10-27T15:40:37.165096Z",
     "iopub.status.idle": "2025-10-27T15:40:37.168484Z",
     "shell.execute_reply": "2025-10-27T15:40:37.167722Z"
    }
   },
   "outputs": [
    {
     "data": {
      "text/plain": [
       "3"
      ]
     },
     "execution_count": 7,
     "metadata": {},
     "output_type": "execute_result"
    }
   ],
   "source": [
    "get_default_experiment_id(conn)"
   ]
  },
  {
   "cell_type": "markdown",
   "metadata": {},
   "source": [
    "The latest created or loaded experiment in the database becomes the default experiment, and the function returns the `exp_id` of that experiment, which in this case it is `exp_c` with `exp_id` of 3."
   ]
  },
  {
   "cell_type": "markdown",
   "metadata": {},
   "source": [
    "Let us add some `DataSet` to our experiments. For the sake of clarity, we don't add any data to the `DataSet` here, and refer to the above-mentioned notebooks for the details. Note that the `new_data_set` function is used here ONLY for the sake of exercise and should NOT be used in the actual experiment."
   ]
  },
  {
   "cell_type": "code",
   "execution_count": 8,
   "metadata": {
    "execution": {
     "iopub.execute_input": "2025-10-27T15:40:37.169762Z",
     "iopub.status.busy": "2025-10-27T15:40:37.169626Z",
     "iopub.status.idle": "2025-10-27T15:40:37.174947Z",
     "shell.execute_reply": "2025-10-27T15:40:37.174343Z"
    }
   },
   "outputs": [
    {
     "data": {
      "text/plain": [
       "run_a #1@/home/runner/work/Qcodes/Qcodes/docs/examples/example_output/exp_container_tutorial.db\n",
       "-----------------------------------------------------------------------------------------------"
      ]
     },
     "execution_count": 8,
     "metadata": {},
     "output_type": "execute_result"
    }
   ],
   "source": [
    "new_data_set(\"run_a\")"
   ]
  },
  {
   "cell_type": "markdown",
   "metadata": {},
   "source": [
    "Since the default experiment is exp_c (`exp_id`=3), the above `DataSet` belongs to this experiment."
   ]
  },
  {
   "cell_type": "code",
   "execution_count": 9,
   "metadata": {
    "execution": {
     "iopub.execute_input": "2025-10-27T15:40:37.176299Z",
     "iopub.status.busy": "2025-10-27T15:40:37.176166Z",
     "iopub.status.idle": "2025-10-27T15:40:37.180067Z",
     "shell.execute_reply": "2025-10-27T15:40:37.179364Z"
    }
   },
   "outputs": [
    {
     "data": {
      "text/plain": [
       "third_exp#brand_new_sample#3@/home/runner/work/Qcodes/Qcodes/docs/examples/example_output/exp_container_tutorial.db\n",
       "-------------------------------------------------------------------------------------------------------------------\n",
       "1-run_a-1-None-0"
      ]
     },
     "execution_count": 9,
     "metadata": {},
     "output_type": "execute_result"
    }
   ],
   "source": [
    "exp_c"
   ]
  },
  {
   "cell_type": "markdown",
   "metadata": {},
   "source": [
    "Let's load another experiment (`exp_b`). We know that the latest created/ loaded experiment should be the default experiment, meaning any new `DataSet` should belong to this experiment:"
   ]
  },
  {
   "cell_type": "code",
   "execution_count": 10,
   "metadata": {
    "execution": {
     "iopub.execute_input": "2025-10-27T15:40:37.181492Z",
     "iopub.status.busy": "2025-10-27T15:40:37.181338Z",
     "iopub.status.idle": "2025-10-27T15:40:37.185333Z",
     "shell.execute_reply": "2025-10-27T15:40:37.184774Z"
    }
   },
   "outputs": [
    {
     "data": {
      "text/plain": [
       "second_exp#slightly_newer_sample#2@/home/runner/work/Qcodes/Qcodes/docs/examples/example_output/exp_container_tutorial.db\n",
       "-------------------------------------------------------------------------------------------------------------------------"
      ]
     },
     "execution_count": 10,
     "metadata": {},
     "output_type": "execute_result"
    }
   ],
   "source": [
    "load_or_create_experiment(\"second_exp\", sample_name=\"slightly_newer_sample\")"
   ]
  },
  {
   "cell_type": "markdown",
   "metadata": {},
   "source": [
    "Let's confirm that actually the second experiment (`exp_id`=2) is the default now:"
   ]
  },
  {
   "cell_type": "code",
   "execution_count": 11,
   "metadata": {
    "execution": {
     "iopub.execute_input": "2025-10-27T15:40:37.186894Z",
     "iopub.status.busy": "2025-10-27T15:40:37.186758Z",
     "iopub.status.idle": "2025-10-27T15:40:37.190116Z",
     "shell.execute_reply": "2025-10-27T15:40:37.189435Z"
    }
   },
   "outputs": [
    {
     "data": {
      "text/plain": [
       "2"
      ]
     },
     "execution_count": 11,
     "metadata": {},
     "output_type": "execute_result"
    }
   ],
   "source": [
    "get_default_experiment_id(conn)"
   ]
  },
  {
   "cell_type": "code",
   "execution_count": 12,
   "metadata": {
    "execution": {
     "iopub.execute_input": "2025-10-27T15:40:37.191407Z",
     "iopub.status.busy": "2025-10-27T15:40:37.191274Z",
     "iopub.status.idle": "2025-10-27T15:40:37.196822Z",
     "shell.execute_reply": "2025-10-27T15:40:37.196040Z"
    }
   },
   "outputs": [
    {
     "data": {
      "text/plain": [
       "first_run_b #2@/home/runner/work/Qcodes/Qcodes/docs/examples/example_output/exp_container_tutorial.db\n",
       "-----------------------------------------------------------------------------------------------------"
      ]
     },
     "execution_count": 12,
     "metadata": {},
     "output_type": "execute_result"
    }
   ],
   "source": [
    "new_data_set(\"first_run_b\")"
   ]
  },
  {
   "cell_type": "code",
   "execution_count": 13,
   "metadata": {
    "execution": {
     "iopub.execute_input": "2025-10-27T15:40:37.198093Z",
     "iopub.status.busy": "2025-10-27T15:40:37.197960Z",
     "iopub.status.idle": "2025-10-27T15:40:37.202992Z",
     "shell.execute_reply": "2025-10-27T15:40:37.202265Z"
    }
   },
   "outputs": [
    {
     "data": {
      "text/plain": [
       "second_run_b #3@/home/runner/work/Qcodes/Qcodes/docs/examples/example_output/exp_container_tutorial.db\n",
       "------------------------------------------------------------------------------------------------------"
      ]
     },
     "execution_count": 13,
     "metadata": {},
     "output_type": "execute_result"
    }
   ],
   "source": [
    "new_data_set(\"second_run_b\")"
   ]
  },
  {
   "cell_type": "markdown",
   "metadata": {},
   "source": [
    "Two above `DataSet`s should belong to `exp_b`:"
   ]
  },
  {
   "cell_type": "code",
   "execution_count": 14,
   "metadata": {
    "execution": {
     "iopub.execute_input": "2025-10-27T15:40:37.204320Z",
     "iopub.status.busy": "2025-10-27T15:40:37.204184Z",
     "iopub.status.idle": "2025-10-27T15:40:37.208520Z",
     "shell.execute_reply": "2025-10-27T15:40:37.207814Z"
    }
   },
   "outputs": [
    {
     "data": {
      "text/plain": [
       "second_exp#slightly_newer_sample#2@/home/runner/work/Qcodes/Qcodes/docs/examples/example_output/exp_container_tutorial.db\n",
       "-------------------------------------------------------------------------------------------------------------------------\n",
       "2-first_run_b-1-None-0\n",
       "3-second_run_b-2-None-0"
      ]
     },
     "execution_count": 14,
     "metadata": {},
     "output_type": "execute_result"
    }
   ],
   "source": [
    "exp_b"
   ]
  },
  {
   "cell_type": "markdown",
   "metadata": {},
   "source": [
    "We can also explicitly use `exp_id` in creating `DataSet`s, so let's add a `DataSet` to the first experiment:"
   ]
  },
  {
   "cell_type": "code",
   "execution_count": 15,
   "metadata": {
    "execution": {
     "iopub.execute_input": "2025-10-27T15:40:37.209814Z",
     "iopub.status.busy": "2025-10-27T15:40:37.209680Z",
     "iopub.status.idle": "2025-10-27T15:40:37.214806Z",
     "shell.execute_reply": "2025-10-27T15:40:37.213975Z"
    }
   },
   "outputs": [
    {
     "data": {
      "text/plain": [
       "first_run #4@/home/runner/work/Qcodes/Qcodes/docs/examples/example_output/exp_container_tutorial.db\n",
       "---------------------------------------------------------------------------------------------------"
      ]
     },
     "execution_count": 15,
     "metadata": {},
     "output_type": "execute_result"
    }
   ],
   "source": [
    "new_data_set(\"first_run\", exp_id=1)"
   ]
  },
  {
   "cell_type": "code",
   "execution_count": 16,
   "metadata": {
    "execution": {
     "iopub.execute_input": "2025-10-27T15:40:37.216030Z",
     "iopub.status.busy": "2025-10-27T15:40:37.215897Z",
     "iopub.status.idle": "2025-10-27T15:40:37.219819Z",
     "shell.execute_reply": "2025-10-27T15:40:37.219226Z"
    }
   },
   "outputs": [
    {
     "data": {
      "text/plain": [
       "first_exp#old_sample#1@/home/runner/work/Qcodes/Qcodes/docs/examples/example_output/exp_container_tutorial.db\n",
       "-------------------------------------------------------------------------------------------------------------\n",
       "4-first_run-1-None-0"
      ]
     },
     "execution_count": 16,
     "metadata": {},
     "output_type": "execute_result"
    }
   ],
   "source": [
    "exp_a"
   ]
  },
  {
   "cell_type": "markdown",
   "metadata": {},
   "source": [
    "The default experiment gets reset upon initialization of a database. Let's check this by initializing our database again (note that our database is not empty anymore):"
   ]
  },
  {
   "cell_type": "code",
   "execution_count": 17,
   "metadata": {
    "execution": {
     "iopub.execute_input": "2025-10-27T15:40:37.221246Z",
     "iopub.status.busy": "2025-10-27T15:40:37.221099Z",
     "iopub.status.idle": "2025-10-27T15:40:37.224414Z",
     "shell.execute_reply": "2025-10-27T15:40:37.223749Z"
    }
   },
   "outputs": [],
   "source": [
    "initialise_or_create_database_at(db_file_path)"
   ]
  },
  {
   "cell_type": "markdown",
   "metadata": {},
   "source": [
    "The default experiment was `exp_id`=2. As we initialized our database again, the default experiment has been reset, meaning the last experiment in the database should be the default one now (we know the last experiment in the database is `exp_id`=3). Let's check this:"
   ]
  },
  {
   "cell_type": "code",
   "execution_count": 18,
   "metadata": {
    "execution": {
     "iopub.execute_input": "2025-10-27T15:40:37.225801Z",
     "iopub.status.busy": "2025-10-27T15:40:37.225662Z",
     "iopub.status.idle": "2025-10-27T15:40:37.229212Z",
     "shell.execute_reply": "2025-10-27T15:40:37.228538Z"
    }
   },
   "outputs": [
    {
     "data": {
      "text/plain": [
       "3"
      ]
     },
     "execution_count": 18,
     "metadata": {},
     "output_type": "execute_result"
    }
   ],
   "source": [
    "get_default_experiment_id(conn)"
   ]
  },
  {
   "cell_type": "markdown",
   "metadata": {},
   "source": [
    "Users may not need to use the reset function explicitly, but in the case they want to use it, here we show how to do that:"
   ]
  },
  {
   "cell_type": "markdown",
   "metadata": {},
   "source": [
    "First, we load an experiment other than the last experiment and check the default experiment is the just loaded experiment:"
   ]
  },
  {
   "cell_type": "code",
   "execution_count": 19,
   "metadata": {
    "execution": {
     "iopub.execute_input": "2025-10-27T15:40:37.230544Z",
     "iopub.status.busy": "2025-10-27T15:40:37.230391Z",
     "iopub.status.idle": "2025-10-27T15:40:37.234823Z",
     "shell.execute_reply": "2025-10-27T15:40:37.234209Z"
    }
   },
   "outputs": [
    {
     "data": {
      "text/plain": [
       "first_exp#old_sample#1@/home/runner/work/Qcodes/Qcodes/docs/examples/example_output/exp_container_tutorial.db\n",
       "-------------------------------------------------------------------------------------------------------------\n",
       "4-first_run-1-None-0"
      ]
     },
     "execution_count": 19,
     "metadata": {},
     "output_type": "execute_result"
    }
   ],
   "source": [
    "load_experiment(1)"
   ]
  },
  {
   "cell_type": "code",
   "execution_count": 20,
   "metadata": {
    "execution": {
     "iopub.execute_input": "2025-10-27T15:40:37.236217Z",
     "iopub.status.busy": "2025-10-27T15:40:37.236079Z",
     "iopub.status.idle": "2025-10-27T15:40:37.239210Z",
     "shell.execute_reply": "2025-10-27T15:40:37.238616Z"
    }
   },
   "outputs": [
    {
     "data": {
      "text/plain": [
       "1"
      ]
     },
     "execution_count": 20,
     "metadata": {},
     "output_type": "execute_result"
    }
   ],
   "source": [
    "get_default_experiment_id(conn)"
   ]
  },
  {
   "cell_type": "markdown",
   "metadata": {},
   "source": [
    "Now, we reset the default experiment and expect to see the last experiment (`exp_id`=3) is the default one:"
   ]
  },
  {
   "cell_type": "code",
   "execution_count": 21,
   "metadata": {
    "execution": {
     "iopub.execute_input": "2025-10-27T15:40:37.240718Z",
     "iopub.status.busy": "2025-10-27T15:40:37.240591Z",
     "iopub.status.idle": "2025-10-27T15:40:37.243172Z",
     "shell.execute_reply": "2025-10-27T15:40:37.242366Z"
    }
   },
   "outputs": [],
   "source": [
    "reset_default_experiment_id()  # the explicit database connection can be used as an optional argument"
   ]
  },
  {
   "cell_type": "code",
   "execution_count": 22,
   "metadata": {
    "execution": {
     "iopub.execute_input": "2025-10-27T15:40:37.244429Z",
     "iopub.status.busy": "2025-10-27T15:40:37.244295Z",
     "iopub.status.idle": "2025-10-27T15:40:37.247729Z",
     "shell.execute_reply": "2025-10-27T15:40:37.247007Z"
    }
   },
   "outputs": [
    {
     "data": {
      "text/plain": [
       "3"
      ]
     },
     "execution_count": 22,
     "metadata": {},
     "output_type": "execute_result"
    }
   ],
   "source": [
    "get_default_experiment_id(conn)"
   ]
  },
  {
   "cell_type": "markdown",
   "metadata": {},
   "source": [
    "Let's make sure it is truly the default experiment by creating a new `DataSet`:"
   ]
  },
  {
   "cell_type": "code",
   "execution_count": 23,
   "metadata": {
    "execution": {
     "iopub.execute_input": "2025-10-27T15:40:37.249048Z",
     "iopub.status.busy": "2025-10-27T15:40:37.248914Z",
     "iopub.status.idle": "2025-10-27T15:40:37.254200Z",
     "shell.execute_reply": "2025-10-27T15:40:37.253544Z"
    }
   },
   "outputs": [
    {
     "data": {
      "text/plain": [
       "default_run #5@/home/runner/work/Qcodes/Qcodes/docs/examples/example_output/exp_container_tutorial.db\n",
       "-----------------------------------------------------------------------------------------------------"
      ]
     },
     "execution_count": 23,
     "metadata": {},
     "output_type": "execute_result"
    }
   ],
   "source": [
    "new_data_set(\"default_run\")"
   ]
  },
  {
   "cell_type": "markdown",
   "metadata": {},
   "source": [
    "This `DataSet` should belong to `exp_c`:"
   ]
  },
  {
   "cell_type": "code",
   "execution_count": 24,
   "metadata": {
    "execution": {
     "iopub.execute_input": "2025-10-27T15:40:37.255528Z",
     "iopub.status.busy": "2025-10-27T15:40:37.255366Z",
     "iopub.status.idle": "2025-10-27T15:40:37.259712Z",
     "shell.execute_reply": "2025-10-27T15:40:37.258967Z"
    }
   },
   "outputs": [
    {
     "data": {
      "text/plain": [
       "third_exp#brand_new_sample#3@/home/runner/work/Qcodes/Qcodes/docs/examples/example_output/exp_container_tutorial.db\n",
       "-------------------------------------------------------------------------------------------------------------------\n",
       "1-run_a-1-None-0\n",
       "5-default_run-2-None-0"
      ]
     },
     "execution_count": 24,
     "metadata": {},
     "output_type": "execute_result"
    }
   ],
   "source": [
    "exp_c"
   ]
  },
  {
   "cell_type": "markdown",
   "metadata": {},
   "source": [
    "There are a few other useful functions to load experiments:"
   ]
  },
  {
   "cell_type": "code",
   "execution_count": 25,
   "metadata": {
    "execution": {
     "iopub.execute_input": "2025-10-27T15:40:37.260984Z",
     "iopub.status.busy": "2025-10-27T15:40:37.260850Z",
     "iopub.status.idle": "2025-10-27T15:40:37.265505Z",
     "shell.execute_reply": "2025-10-27T15:40:37.264860Z"
    }
   },
   "outputs": [
    {
     "data": {
      "text/plain": [
       "second_exp#slightly_newer_sample#2@/home/runner/work/Qcodes/Qcodes/docs/examples/example_output/exp_container_tutorial.db\n",
       "-------------------------------------------------------------------------------------------------------------------------\n",
       "2-first_run_b-1-None-0\n",
       "3-second_run_b-2-None-0"
      ]
     },
     "execution_count": 25,
     "metadata": {},
     "output_type": "execute_result"
    }
   ],
   "source": [
    "load_experiment_by_name(\n",
    "    \"second_exp\", sample=\"slightly_newer_sample\"\n",
    ")  # loads using name and sample"
   ]
  },
  {
   "cell_type": "code",
   "execution_count": 26,
   "metadata": {
    "execution": {
     "iopub.execute_input": "2025-10-27T15:40:37.266807Z",
     "iopub.status.busy": "2025-10-27T15:40:37.266675Z",
     "iopub.status.idle": "2025-10-27T15:40:37.273645Z",
     "shell.execute_reply": "2025-10-27T15:40:37.272774Z"
    }
   },
   "outputs": [
    {
     "data": {
      "text/plain": [
       "third_exp#brand_new_sample#3@/home/runner/work/Qcodes/Qcodes/docs/examples/example_output/exp_container_tutorial.db\n",
       "-------------------------------------------------------------------------------------------------------------------\n",
       "1-run_a-1-None-0\n",
       "5-default_run-2-None-0"
      ]
     },
     "execution_count": 26,
     "metadata": {},
     "output_type": "execute_result"
    }
   ],
   "source": [
    "load_last_experiment()  # loads the last experiment in the database"
   ]
  }
 ],
 "metadata": {
  "kernelspec": {
   "display_name": ".venv",
   "language": "python",
   "name": "python3"
  },
  "language_info": {
   "codemirror_mode": {
    "name": "ipython",
    "version": 3
   },
   "file_extension": ".py",
   "mimetype": "text/x-python",
   "name": "python",
   "nbconvert_exporter": "python",
   "pygments_lexer": "ipython3",
   "version": "3.11.13"
  },
  "toc": {
   "base_numbering": 1,
   "nav_menu": {},
   "number_sections": true,
   "sideBar": true,
   "skip_h1_title": false,
   "title_cell": "Table of Contents",
   "title_sidebar": "Contents",
   "toc_cell": false,
   "toc_position": {},
   "toc_section_display": true,
   "toc_window_display": false
  },
  "varInspector": {
   "cols": {
    "lenName": 16,
    "lenType": 16,
    "lenVar": 40
   },
   "kernels_config": {
    "python": {
     "delete_cmd_postfix": "",
     "delete_cmd_prefix": "del ",
     "library": "var_list.py",
     "varRefreshCmd": "print(var_dic_list())"
    },
    "r": {
     "delete_cmd_postfix": ") ",
     "delete_cmd_prefix": "rm(",
     "library": "var_list.r",
     "varRefreshCmd": "cat(var_dic_list()) "
    }
   },
   "types_to_exclude": [
    "module",
    "function",
    "builtin_function_or_method",
    "instance",
    "_Feature"
   ],
   "window_display": false
  }
 },
 "nbformat": 4,
 "nbformat_minor": 4
}
