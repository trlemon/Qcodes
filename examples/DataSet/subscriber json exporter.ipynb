{
 "cells": [
  {
   "cell_type": "markdown",
   "metadata": {},
   "source": [
    "# Subscriber with JSON export\n",
    "\n",
    "__NOTE__: this is an __outdated__ notebook, some of the functions that are used here are considered __private__ to QCoDeS and are not intended for use by users (for example, `DataSet.subscribe`). This notebook will be re-written in the future."
   ]
  },
  {
   "cell_type": "code",
   "execution_count": 1,
   "metadata": {
    "execution": {
     "iopub.execute_input": "2025-10-27T15:42:58.622570Z",
     "iopub.status.busy": "2025-10-27T15:42:58.622395Z",
     "iopub.status.idle": "2025-10-27T15:42:58.677635Z",
     "shell.execute_reply": "2025-10-27T15:42:58.676348Z"
    }
   },
   "outputs": [],
   "source": [
    "import copy\n",
    "import logging\n",
    "from pathlib import Path\n",
    "\n",
    "import numpy as np"
   ]
  },
  {
   "cell_type": "code",
   "execution_count": 2,
   "metadata": {
    "execution": {
     "iopub.execute_input": "2025-10-27T15:42:58.679768Z",
     "iopub.status.busy": "2025-10-27T15:42:58.679507Z",
     "iopub.status.idle": "2025-10-27T15:42:58.953899Z",
     "shell.execute_reply": "2025-10-27T15:42:58.953152Z"
    }
   },
   "outputs": [],
   "source": [
    "from qcodes.dataset import (\n",
    "    ParamSpec,\n",
    "    initialise_or_create_database_at,\n",
    "    load_or_create_experiment,\n",
    "    new_data_set,\n",
    ")\n",
    "from qcodes.dataset.json_exporter import (\n",
    "    export_data_as_json_heatmap,\n",
    "    export_data_as_json_linear,\n",
    "    json_template_heatmap,\n",
    "    json_template_linear,\n",
    ")"
   ]
  },
  {
   "cell_type": "code",
   "execution_count": 3,
   "metadata": {
    "execution": {
     "iopub.execute_input": "2025-10-27T15:42:58.955793Z",
     "iopub.status.busy": "2025-10-27T15:42:58.955525Z",
     "iopub.status.idle": "2025-10-27T15:42:58.958353Z",
     "shell.execute_reply": "2025-10-27T15:42:58.957713Z"
    }
   },
   "outputs": [],
   "source": [
    "logging.basicConfig(level=\"INFO\")"
   ]
  },
  {
   "cell_type": "code",
   "execution_count": 4,
   "metadata": {
    "execution": {
     "iopub.execute_input": "2025-10-27T15:42:58.959709Z",
     "iopub.status.busy": "2025-10-27T15:42:58.959568Z",
     "iopub.status.idle": "2025-10-27T15:42:59.001573Z",
     "shell.execute_reply": "2025-10-27T15:42:59.000788Z"
    }
   },
   "outputs": [
    {
     "name": "stderr",
     "output_type": "stream",
     "text": [
      "INFO:qcodes.dataset.sqlite.db_upgrades:Commencing database upgrade\n"
     ]
    },
    {
     "name": "stderr",
     "output_type": "stream",
     "text": [
      "INFO:qcodes.dataset.sqlite.db_upgrades:Starting database upgrade version 0 to 1\n"
     ]
    },
    {
     "name": "stderr",
     "output_type": "stream",
     "text": [
      "INFO:qcodes.dataset.sqlite.db_upgrades:Succesfully performed upgrade 0 -> 1\n"
     ]
    },
    {
     "name": "stderr",
     "output_type": "stream",
     "text": [
      "INFO:qcodes.dataset.sqlite.db_upgrades:Starting database upgrade version 1 to 2\n"
     ]
    },
    {
     "name": "stderr",
     "output_type": "stream",
     "text": [
      "INFO:qcodes.dataset.sqlite.db_upgrades:Succesfully performed upgrade 1 -> 2\n"
     ]
    },
    {
     "name": "stderr",
     "output_type": "stream",
     "text": [
      "INFO:qcodes.dataset.sqlite.db_upgrades:Starting database upgrade version 2 to 3\n"
     ]
    },
    {
     "name": "stderr",
     "output_type": "stream",
     "text": [
      "INFO:qcodes.dataset.sqlite.db_upgrades:Succesfully performed upgrade 2 -> 3\n"
     ]
    },
    {
     "name": "stderr",
     "output_type": "stream",
     "text": [
      "INFO:qcodes.dataset.sqlite.db_upgrades:Starting database upgrade version 3 to 4\n"
     ]
    },
    {
     "name": "stderr",
     "output_type": "stream",
     "text": [
      "INFO:qcodes.dataset.sqlite.db_upgrades:Succesfully performed upgrade 3 -> 4\n"
     ]
    },
    {
     "name": "stderr",
     "output_type": "stream",
     "text": [
      "INFO:qcodes.dataset.sqlite.db_upgrades:Starting database upgrade version 4 to 5\n"
     ]
    },
    {
     "name": "stderr",
     "output_type": "stream",
     "text": [
      "INFO:qcodes.dataset.sqlite.db_upgrades:Succesfully performed upgrade 4 -> 5\n"
     ]
    },
    {
     "name": "stderr",
     "output_type": "stream",
     "text": [
      "INFO:qcodes.dataset.sqlite.db_upgrades:Starting database upgrade version 5 to 6\n"
     ]
    },
    {
     "name": "stderr",
     "output_type": "stream",
     "text": [
      "INFO:qcodes.dataset.sqlite.db_upgrades:Succesfully performed upgrade 5 -> 6\n"
     ]
    },
    {
     "name": "stderr",
     "output_type": "stream",
     "text": [
      "INFO:qcodes.dataset.sqlite.db_upgrades:Starting database upgrade version 6 to 7\n"
     ]
    },
    {
     "name": "stderr",
     "output_type": "stream",
     "text": [
      "INFO:qcodes.dataset.sqlite.db_upgrades:Succesfully performed upgrade 6 -> 7\n"
     ]
    },
    {
     "name": "stderr",
     "output_type": "stream",
     "text": [
      "INFO:qcodes.dataset.sqlite.db_upgrades:Starting database upgrade version 7 to 8\n"
     ]
    },
    {
     "name": "stderr",
     "output_type": "stream",
     "text": [
      "INFO:qcodes.dataset.sqlite.db_upgrades:Succesfully performed upgrade 7 -> 8\n"
     ]
    },
    {
     "name": "stderr",
     "output_type": "stream",
     "text": [
      "INFO:qcodes.dataset.sqlite.db_upgrades:Starting database upgrade version 8 to 9\n"
     ]
    },
    {
     "name": "stderr",
     "output_type": "stream",
     "text": [
      "INFO:qcodes.dataset.sqlite.db_upgrades:Succesfully performed upgrade 8 -> 9\n"
     ]
    },
    {
     "name": "stderr",
     "output_type": "stream",
     "text": [
      "INFO:qcodes.dataset.experiment_container:creating new experiment in /home/runner/work/Qcodes/Qcodes/docs/examples/example_output/json_export_example.db\n"
     ]
    }
   ],
   "source": [
    "initialise_or_create_database_at(\n",
    "    Path.cwd().parent / \"example_output\" / \"json_export_example.db\"\n",
    ")\n",
    "exp = load_or_create_experiment(\"json-export-subscriber-test\", \"no-sample\")"
   ]
  },
  {
   "cell_type": "code",
   "execution_count": 5,
   "metadata": {
    "execution": {
     "iopub.execute_input": "2025-10-27T15:42:59.003054Z",
     "iopub.status.busy": "2025-10-27T15:42:59.002912Z",
     "iopub.status.idle": "2025-10-27T15:42:59.012066Z",
     "shell.execute_reply": "2025-10-27T15:42:59.011518Z"
    }
   },
   "outputs": [
    {
     "name": "stderr",
     "output_type": "stream",
     "text": [
      "INFO:qcodes.dataset.sqlite.queries:Created run with guid: 75f51308-0000-0000-0000-019a265643bd in database /home/runner/work/Qcodes/Qcodes/docs/examples/example_output/json_export_example.db\n"
     ]
    },
    {
     "name": "stderr",
     "output_type": "stream",
     "text": [
      "INFO:qcodes.dataset.sqlite.queries:Set the run_timestamp of run_id 1 to 1761579779.0092216\n"
     ]
    }
   ],
   "source": [
    "dataSet = new_data_set(\n",
    "    \"test\",\n",
    "    exp_id=exp.exp_id,\n",
    "    specs=[ParamSpec(\"x\", \"numeric\"), ParamSpec(\"y\", \"numeric\")],\n",
    ")\n",
    "dataSet.mark_started()"
   ]
  },
  {
   "cell_type": "code",
   "execution_count": 6,
   "metadata": {
    "execution": {
     "iopub.execute_input": "2025-10-27T15:42:59.013555Z",
     "iopub.status.busy": "2025-10-27T15:42:59.013384Z",
     "iopub.status.idle": "2025-10-27T15:42:59.016966Z",
     "shell.execute_reply": "2025-10-27T15:42:59.016137Z"
    }
   },
   "outputs": [],
   "source": [
    "mystate = {}\n",
    "mystate[\"json\"] = copy.deepcopy(json_template_linear)\n",
    "mystate[\"json\"][\"x\"][\"name\"] = \"xname\"\n",
    "mystate[\"json\"][\"x\"][\"unit\"] = \"xunit\"\n",
    "mystate[\"json\"][\"x\"][\"full_name\"] = \"xfullname\"\n",
    "mystate[\"json\"][\"y\"][\"name\"] = \"yname\"\n",
    "mystate[\"json\"][\"y\"][\"unit\"] = \"yunit\"\n",
    "mystate[\"json\"][\"y\"][\"full_name\"] = \"yfullname\""
   ]
  },
  {
   "cell_type": "code",
   "execution_count": 7,
   "metadata": {
    "execution": {
     "iopub.execute_input": "2025-10-27T15:42:59.018237Z",
     "iopub.status.busy": "2025-10-27T15:42:59.018101Z",
     "iopub.status.idle": "2025-10-27T15:42:59.022344Z",
     "shell.execute_reply": "2025-10-27T15:42:59.021485Z"
    },
    "scrolled": true
   },
   "outputs": [],
   "source": [
    "sub_id = dataSet.subscribe(\n",
    "    export_data_as_json_linear,\n",
    "    min_wait=0,\n",
    "    min_count=20,\n",
    "    state=mystate,\n",
    "    callback_kwargs={\"location\": \"../example_output/example_output1.json\"},\n",
    ")"
   ]
  },
  {
   "cell_type": "code",
   "execution_count": 8,
   "metadata": {
    "execution": {
     "iopub.execute_input": "2025-10-27T15:42:59.023850Z",
     "iopub.status.busy": "2025-10-27T15:42:59.023595Z",
     "iopub.status.idle": "2025-10-27T15:42:59.026553Z",
     "shell.execute_reply": "2025-10-27T15:42:59.025694Z"
    }
   },
   "outputs": [],
   "source": [
    "s = dataSet.subscribers[sub_id]"
   ]
  },
  {
   "cell_type": "code",
   "execution_count": 9,
   "metadata": {
    "execution": {
     "iopub.execute_input": "2025-10-27T15:42:59.027971Z",
     "iopub.status.busy": "2025-10-27T15:42:59.027734Z",
     "iopub.status.idle": "2025-10-27T15:42:59.033067Z",
     "shell.execute_reply": "2025-10-27T15:42:59.032220Z"
    },
    "scrolled": true
   },
   "outputs": [
    {
     "data": {
      "text/plain": [
       "{'json': {'type': 'linear',\n",
       "  'x': {'data': [],\n",
       "   'name': 'xname',\n",
       "   'full_name': 'xfullname',\n",
       "   'is_setpoint': True,\n",
       "   'unit': 'xunit'},\n",
       "  'y': {'data': [],\n",
       "   'name': 'yname',\n",
       "   'full_name': 'yfullname',\n",
       "   'is_setpoint': False,\n",
       "   'unit': 'yunit'}}}"
      ]
     },
     "execution_count": 9,
     "metadata": {},
     "output_type": "execute_result"
    }
   ],
   "source": [
    "mystate"
   ]
  },
  {
   "cell_type": "code",
   "execution_count": 10,
   "metadata": {
    "execution": {
     "iopub.execute_input": "2025-10-27T15:42:59.034569Z",
     "iopub.status.busy": "2025-10-27T15:42:59.034402Z",
     "iopub.status.idle": "2025-10-27T15:42:59.099355Z",
     "shell.execute_reply": "2025-10-27T15:42:59.098523Z"
    },
    "scrolled": false
   },
   "outputs": [],
   "source": [
    "for x in range(100):\n",
    "    y = x\n",
    "    dataSet.add_results([{\"x\": x, \"y\": y}])\n",
    "dataSet.mark_completed()"
   ]
  },
  {
   "cell_type": "code",
   "execution_count": 11,
   "metadata": {
    "execution": {
     "iopub.execute_input": "2025-10-27T15:42:59.100974Z",
     "iopub.status.busy": "2025-10-27T15:42:59.100792Z",
     "iopub.status.idle": "2025-10-27T15:42:59.105580Z",
     "shell.execute_reply": "2025-10-27T15:42:59.104720Z"
    },
    "scrolled": true
   },
   "outputs": [
    {
     "data": {
      "text/plain": [
       "{'json': {'type': 'linear',\n",
       "  'x': {'data': [0,\n",
       "    1,\n",
       "    2,\n",
       "    3,\n",
       "    4,\n",
       "    5,\n",
       "    6,\n",
       "    7,\n",
       "    8,\n",
       "    9,\n",
       "    10,\n",
       "    11,\n",
       "    12,\n",
       "    13,\n",
       "    14,\n",
       "    15,\n",
       "    16,\n",
       "    17,\n",
       "    18,\n",
       "    19,\n",
       "    20,\n",
       "    21,\n",
       "    22,\n",
       "    23,\n",
       "    24,\n",
       "    25,\n",
       "    26,\n",
       "    27,\n",
       "    28,\n",
       "    29,\n",
       "    30,\n",
       "    31,\n",
       "    32,\n",
       "    33,\n",
       "    34,\n",
       "    35,\n",
       "    36,\n",
       "    37,\n",
       "    38,\n",
       "    39,\n",
       "    40,\n",
       "    41,\n",
       "    42,\n",
       "    43,\n",
       "    44,\n",
       "    45,\n",
       "    46,\n",
       "    47,\n",
       "    48,\n",
       "    49,\n",
       "    50,\n",
       "    51,\n",
       "    52,\n",
       "    53,\n",
       "    54,\n",
       "    55,\n",
       "    56,\n",
       "    57,\n",
       "    58,\n",
       "    59,\n",
       "    60,\n",
       "    61,\n",
       "    62,\n",
       "    63,\n",
       "    64,\n",
       "    65,\n",
       "    66,\n",
       "    67,\n",
       "    68,\n",
       "    69,\n",
       "    70,\n",
       "    71,\n",
       "    72,\n",
       "    73,\n",
       "    74,\n",
       "    75,\n",
       "    76,\n",
       "    77,\n",
       "    78,\n",
       "    79,\n",
       "    80,\n",
       "    81,\n",
       "    82,\n",
       "    83,\n",
       "    84,\n",
       "    85,\n",
       "    86,\n",
       "    87,\n",
       "    88,\n",
       "    89,\n",
       "    90,\n",
       "    91,\n",
       "    92,\n",
       "    93,\n",
       "    94,\n",
       "    95,\n",
       "    96,\n",
       "    97,\n",
       "    98,\n",
       "    99],\n",
       "   'name': 'xname',\n",
       "   'full_name': 'xfullname',\n",
       "   'is_setpoint': True,\n",
       "   'unit': 'xunit'},\n",
       "  'y': {'data': [0,\n",
       "    1,\n",
       "    2,\n",
       "    3,\n",
       "    4,\n",
       "    5,\n",
       "    6,\n",
       "    7,\n",
       "    8,\n",
       "    9,\n",
       "    10,\n",
       "    11,\n",
       "    12,\n",
       "    13,\n",
       "    14,\n",
       "    15,\n",
       "    16,\n",
       "    17,\n",
       "    18,\n",
       "    19,\n",
       "    20,\n",
       "    21,\n",
       "    22,\n",
       "    23,\n",
       "    24,\n",
       "    25,\n",
       "    26,\n",
       "    27,\n",
       "    28,\n",
       "    29,\n",
       "    30,\n",
       "    31,\n",
       "    32,\n",
       "    33,\n",
       "    34,\n",
       "    35,\n",
       "    36,\n",
       "    37,\n",
       "    38,\n",
       "    39,\n",
       "    40,\n",
       "    41,\n",
       "    42,\n",
       "    43,\n",
       "    44,\n",
       "    45,\n",
       "    46,\n",
       "    47,\n",
       "    48,\n",
       "    49,\n",
       "    50,\n",
       "    51,\n",
       "    52,\n",
       "    53,\n",
       "    54,\n",
       "    55,\n",
       "    56,\n",
       "    57,\n",
       "    58,\n",
       "    59,\n",
       "    60,\n",
       "    61,\n",
       "    62,\n",
       "    63,\n",
       "    64,\n",
       "    65,\n",
       "    66,\n",
       "    67,\n",
       "    68,\n",
       "    69,\n",
       "    70,\n",
       "    71,\n",
       "    72,\n",
       "    73,\n",
       "    74,\n",
       "    75,\n",
       "    76,\n",
       "    77,\n",
       "    78,\n",
       "    79,\n",
       "    80,\n",
       "    81,\n",
       "    82,\n",
       "    83,\n",
       "    84,\n",
       "    85,\n",
       "    86,\n",
       "    87,\n",
       "    88,\n",
       "    89,\n",
       "    90,\n",
       "    91,\n",
       "    92,\n",
       "    93,\n",
       "    94,\n",
       "    95,\n",
       "    96,\n",
       "    97,\n",
       "    98,\n",
       "    99],\n",
       "   'name': 'yname',\n",
       "   'full_name': 'yfullname',\n",
       "   'is_setpoint': False,\n",
       "   'unit': 'yunit'}}}"
      ]
     },
     "execution_count": 11,
     "metadata": {},
     "output_type": "execute_result"
    }
   ],
   "source": [
    "mystate"
   ]
  },
  {
   "cell_type": "code",
   "execution_count": 12,
   "metadata": {
    "execution": {
     "iopub.execute_input": "2025-10-27T15:42:59.107054Z",
     "iopub.status.busy": "2025-10-27T15:42:59.106900Z",
     "iopub.status.idle": "2025-10-27T15:42:59.110898Z",
     "shell.execute_reply": "2025-10-27T15:42:59.110186Z"
    }
   },
   "outputs": [],
   "source": [
    "mystate = {}\n",
    "xlen = 5\n",
    "ylen = 10\n",
    "mystate[\"json\"] = json_template_heatmap.copy()\n",
    "mystate[\"data\"] = {}\n",
    "mystate[\"data\"][\"xlen\"] = xlen\n",
    "mystate[\"data\"][\"ylen\"] = ylen\n",
    "mystate[\"data\"][\"x\"] = np.zeros((xlen * ylen), dtype=object)\n",
    "mystate[\"data\"][\"x\"][:] = None\n",
    "mystate[\"data\"][\"y\"] = np.zeros((xlen * ylen), dtype=object)\n",
    "mystate[\"data\"][\"y\"][:] = None\n",
    "mystate[\"data\"][\"z\"] = np.zeros((xlen * ylen), dtype=object)\n",
    "mystate[\"data\"][\"z\"][:] = None\n",
    "mystate[\"data\"][\"location\"] = 0"
   ]
  },
  {
   "cell_type": "code",
   "execution_count": 13,
   "metadata": {
    "execution": {
     "iopub.execute_input": "2025-10-27T15:42:59.112225Z",
     "iopub.status.busy": "2025-10-27T15:42:59.112086Z",
     "iopub.status.idle": "2025-10-27T15:42:59.121862Z",
     "shell.execute_reply": "2025-10-27T15:42:59.121161Z"
    }
   },
   "outputs": [
    {
     "name": "stderr",
     "output_type": "stream",
     "text": [
      "INFO:qcodes.dataset.sqlite.queries:Created run with guid: e91ada5b-0000-0000-0000-019a2656442a in database /home/runner/work/Qcodes/Qcodes/docs/examples/example_output/json_export_example.db\n"
     ]
    },
    {
     "name": "stderr",
     "output_type": "stream",
     "text": [
      "INFO:qcodes.dataset.sqlite.queries:Set the run_timestamp of run_id 2 to 1761579779.1189754\n"
     ]
    }
   ],
   "source": [
    "dataSet_hm = new_data_set(\n",
    "    \"test\",\n",
    "    exp_id=exp.exp_id,\n",
    "    specs=[\n",
    "        ParamSpec(\"x\", \"numeric\"),\n",
    "        ParamSpec(\"y\", \"numeric\"),\n",
    "        ParamSpec(\"z\", \"numeric\"),\n",
    "    ],\n",
    ")\n",
    "dataSet_hm.mark_started()"
   ]
  },
  {
   "cell_type": "code",
   "execution_count": 14,
   "metadata": {
    "execution": {
     "iopub.execute_input": "2025-10-27T15:42:59.123234Z",
     "iopub.status.busy": "2025-10-27T15:42:59.123095Z",
     "iopub.status.idle": "2025-10-27T15:42:59.126989Z",
     "shell.execute_reply": "2025-10-27T15:42:59.126409Z"
    }
   },
   "outputs": [],
   "source": [
    "sub_id = dataSet_hm.subscribe(\n",
    "    export_data_as_json_heatmap,\n",
    "    min_wait=0,\n",
    "    min_count=20,\n",
    "    state=mystate,\n",
    "    callback_kwargs={\"location\": \"../example_output/example_output2.json\"},\n",
    ")"
   ]
  },
  {
   "cell_type": "code",
   "execution_count": 15,
   "metadata": {
    "execution": {
     "iopub.execute_input": "2025-10-27T15:42:59.128762Z",
     "iopub.status.busy": "2025-10-27T15:42:59.128615Z",
     "iopub.status.idle": "2025-10-27T15:42:59.159405Z",
     "shell.execute_reply": "2025-10-27T15:42:59.158561Z"
    },
    "scrolled": false
   },
   "outputs": [],
   "source": [
    "for x in range(xlen):\n",
    "    for y in range(ylen):\n",
    "        z = x + y\n",
    "        dataSet_hm.add_results([{\"x\": x, \"y\": y, \"z\": z}])\n",
    "dataSet_hm.mark_completed()"
   ]
  },
  {
   "cell_type": "code",
   "execution_count": 16,
   "metadata": {
    "execution": {
     "iopub.execute_input": "2025-10-27T15:42:59.160866Z",
     "iopub.status.busy": "2025-10-27T15:42:59.160724Z",
     "iopub.status.idle": "2025-10-27T15:42:59.164831Z",
     "shell.execute_reply": "2025-10-27T15:42:59.164138Z"
    },
    "scrolled": true
   },
   "outputs": [
    {
     "data": {
      "text/plain": [
       "{'type': 'heatmap',\n",
       " 'x': {'data': [0, 0, 0, 0, 0],\n",
       "  'name': '',\n",
       "  'full_name': '',\n",
       "  'is_setpoint': True,\n",
       "  'unit': ''},\n",
       " 'y': {'data': [0, 0, 0, 0, 0, 0, 0, 0, 0, 0],\n",
       "  'name': '',\n",
       "  'full_name': '',\n",
       "  'is_setpoint': True,\n",
       "  'unit': ''},\n",
       " 'z': {'data': [[0, 1, 2, 3, 4, 5, 6, 7, 8, 9],\n",
       "   [1, 2, 3, 4, 5, 6, 7, 8, 9, 10],\n",
       "   [2, 3, 4, 5, 6, 7, 8, 9, 10, 11],\n",
       "   [3, 4, 5, 6, 7, 8, 9, 10, 11, 12],\n",
       "   [4, 5, 6, 7, 8, 9, 10, 11, 12, 13]],\n",
       "  'name': '',\n",
       "  'full_name': '',\n",
       "  'is_setpoint': False,\n",
       "  'unit': ''}}"
      ]
     },
     "execution_count": 16,
     "metadata": {},
     "output_type": "execute_result"
    }
   ],
   "source": [
    "mystate[\"json\"]"
   ]
  },
  {
   "cell_type": "code",
   "execution_count": null,
   "metadata": {},
   "outputs": [],
   "source": []
  }
 ],
 "metadata": {
  "kernelspec": {
   "display_name": ".venv",
   "language": "python",
   "name": "python3"
  },
  "language_info": {
   "codemirror_mode": {
    "name": "ipython",
    "version": 3
   },
   "file_extension": ".py",
   "mimetype": "text/x-python",
   "name": "python",
   "nbconvert_exporter": "python",
   "pygments_lexer": "ipython3",
   "version": "3.11.13"
  }
 },
 "nbformat": 4,
 "nbformat_minor": 2
}
