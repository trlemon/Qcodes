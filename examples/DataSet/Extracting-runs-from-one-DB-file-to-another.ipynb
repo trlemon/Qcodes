{
 "cells": [
  {
   "cell_type": "markdown",
   "metadata": {},
   "source": [
    "# Extracting runs from one DB file to another\n",
    "\n",
    "This notebook shows how to use the `extract_runs_into_db` function to extract runs from a database (DB) file (the source DB) into another DB file (the target DB). If the target DB does not exist, it will be created. The runs are **NOT** removed from the original DB file; they are copied over.\n"
   ]
  },
  {
   "cell_type": "markdown",
   "metadata": {},
   "source": [
    "## Setup\n",
    "\n",
    "Let us set up a DB file with some runs in it."
   ]
  },
  {
   "cell_type": "code",
   "execution_count": 1,
   "metadata": {
    "execution": {
     "iopub.execute_input": "2025-10-27T15:37:09.505885Z",
     "iopub.status.busy": "2025-10-27T15:37:09.505729Z",
     "iopub.status.idle": "2025-10-27T15:37:09.879369Z",
     "shell.execute_reply": "2025-10-27T15:37:09.878307Z"
    }
   },
   "outputs": [],
   "source": [
    "from pathlib import Path\n",
    "\n",
    "import numpy as np\n",
    "\n",
    "from qcodes.dataset import (\n",
    "    Measurement,\n",
    "    connect,\n",
    "    extract_runs_into_db,\n",
    "    load_experiment_by_name,\n",
    "    load_or_create_experiment,\n",
    ")\n",
    "from qcodes.instrument_drivers.mock_instruments import DummyInstrument\n",
    "from qcodes.station import Station"
   ]
  },
  {
   "cell_type": "code",
   "execution_count": 2,
   "metadata": {
    "execution": {
     "iopub.execute_input": "2025-10-27T15:37:09.881616Z",
     "iopub.status.busy": "2025-10-27T15:37:09.881130Z",
     "iopub.status.idle": "2025-10-27T15:37:09.885596Z",
     "shell.execute_reply": "2025-10-27T15:37:09.884581Z"
    }
   },
   "outputs": [],
   "source": [
    "source_path = Path.cwd().parent / \"example_output\" / \"extract_runs_notebook_source.db\"\n",
    "target_path = Path.cwd().parent / \"example_output\" / \"extract_runs_notebook_target.db\""
   ]
  },
  {
   "cell_type": "code",
   "execution_count": 3,
   "metadata": {
    "execution": {
     "iopub.execute_input": "2025-10-27T15:37:09.887343Z",
     "iopub.status.busy": "2025-10-27T15:37:09.887079Z",
     "iopub.status.idle": "2025-10-27T15:37:09.933788Z",
     "shell.execute_reply": "2025-10-27T15:37:09.932860Z"
    }
   },
   "outputs": [],
   "source": [
    "source_conn = connect(source_path)\n",
    "target_conn = connect(target_path)"
   ]
  },
  {
   "cell_type": "code",
   "execution_count": 4,
   "metadata": {
    "execution": {
     "iopub.execute_input": "2025-10-27T15:37:09.935489Z",
     "iopub.status.busy": "2025-10-27T15:37:09.935331Z",
     "iopub.status.idle": "2025-10-27T15:37:09.940317Z",
     "shell.execute_reply": "2025-10-27T15:37:09.939690Z"
    }
   },
   "outputs": [],
   "source": [
    "exp = load_or_create_experiment(\n",
    "    experiment_name=\"extract_runs_experiment\", sample_name=\"no_sample\", conn=source_conn\n",
    ")\n",
    "\n",
    "my_inst = DummyInstrument(\"my_inst\", gates=[\"voltage\", \"current\"])\n",
    "station = Station(my_inst)"
   ]
  },
  {
   "cell_type": "code",
   "execution_count": 5,
   "metadata": {
    "execution": {
     "iopub.execute_input": "2025-10-27T15:37:09.942058Z",
     "iopub.status.busy": "2025-10-27T15:37:09.941915Z",
     "iopub.status.idle": "2025-10-27T15:37:10.088153Z",
     "shell.execute_reply": "2025-10-27T15:37:10.087273Z"
    }
   },
   "outputs": [
    {
     "name": "stdout",
     "output_type": "stream",
     "text": [
      "Starting experimental run with id: 1. \n",
      "Starting experimental run with id: 2. \n",
      "Starting experimental run with id: 3. \n",
      "Starting experimental run with id: 4. \n",
      "Starting experimental run with id: 5. \n",
      "Starting experimental run with id: 6. \n",
      "Starting experimental run with id: 7. \n",
      "Starting experimental run with id: 8. \n",
      "Starting experimental run with id: 9. \n",
      "Starting experimental run with id: 10. \n"
     ]
    }
   ],
   "source": [
    "meas = Measurement(exp=exp)\n",
    "meas.register_parameter(my_inst.voltage)\n",
    "meas.register_parameter(my_inst.current, setpoints=(my_inst.voltage,))\n",
    "\n",
    "# Add 10 runs with gradually more and more data\n",
    "\n",
    "for run_id in range(1, 11):\n",
    "    with meas.run() as datasaver:\n",
    "        for step, noise in enumerate(np.random.randn(run_id)):\n",
    "            datasaver.add_result((my_inst.voltage, step), (my_inst.current, noise))"
   ]
  },
  {
   "cell_type": "markdown",
   "metadata": {},
   "source": [
    "## Extraction\n",
    "\n",
    "Now let us extract runs 3 and 7 into our desired target DB file. All runs must come from the same experiment. To extract runs from different experiments, one may call the function several times.\n",
    "\n",
    "The function will look in the target DB to see if an experiment with matching attributes already exists. If not, such an experiment is created."
   ]
  },
  {
   "cell_type": "code",
   "execution_count": 6,
   "metadata": {
    "execution": {
     "iopub.execute_input": "2025-10-27T15:37:10.089982Z",
     "iopub.status.busy": "2025-10-27T15:37:10.089726Z",
     "iopub.status.idle": "2025-10-27T15:37:10.099849Z",
     "shell.execute_reply": "2025-10-27T15:37:10.099041Z"
    }
   },
   "outputs": [],
   "source": [
    "extract_runs_into_db(source_path, target_path, 3, 7)"
   ]
  },
  {
   "cell_type": "code",
   "execution_count": 7,
   "metadata": {
    "execution": {
     "iopub.execute_input": "2025-10-27T15:37:10.101693Z",
     "iopub.status.busy": "2025-10-27T15:37:10.101527Z",
     "iopub.status.idle": "2025-10-27T15:37:10.104446Z",
     "shell.execute_reply": "2025-10-27T15:37:10.103748Z"
    }
   },
   "outputs": [],
   "source": [
    "target_exp = load_experiment_by_name(name=\"extract_runs_experiment\", conn=target_conn)"
   ]
  },
  {
   "cell_type": "code",
   "execution_count": 8,
   "metadata": {
    "execution": {
     "iopub.execute_input": "2025-10-27T15:37:10.106100Z",
     "iopub.status.busy": "2025-10-27T15:37:10.105929Z",
     "iopub.status.idle": "2025-10-27T15:37:10.114275Z",
     "shell.execute_reply": "2025-10-27T15:37:10.113589Z"
    }
   },
   "outputs": [
    {
     "data": {
      "text/plain": [
       "extract_runs_experiment#no_sample#1@/home/runner/work/Qcodes/Qcodes/docs/examples/example_output/extract_runs_notebook_target.db\n",
       "--------------------------------------------------------------------------------------------------------------------------------\n",
       "1-results-1-my_inst_voltage,my_inst_current-3\n",
       "2-results-2-my_inst_voltage,my_inst_current-7"
      ]
     },
     "execution_count": 8,
     "metadata": {},
     "output_type": "execute_result"
    }
   ],
   "source": [
    "target_exp"
   ]
  },
  {
   "cell_type": "markdown",
   "metadata": {},
   "source": [
    "The last number printed in each line is the number of data points. As expected, we get 3 and 7.\n",
    "\n",
    "Note that the runs will have different `run_id`s in the new database. Their GUIDs are, however, the same (as they must be)."
   ]
  },
  {
   "cell_type": "code",
   "execution_count": 9,
   "metadata": {
    "execution": {
     "iopub.execute_input": "2025-10-27T15:37:10.116170Z",
     "iopub.status.busy": "2025-10-27T15:37:10.116002Z",
     "iopub.status.idle": "2025-10-27T15:37:10.120952Z",
     "shell.execute_reply": "2025-10-27T15:37:10.120166Z"
    },
    "scrolled": true
   },
   "outputs": [
    {
     "data": {
      "text/plain": [
       "'235e55a9-0000-0000-0000-019a2650f05f'"
      ]
     },
     "execution_count": 9,
     "metadata": {},
     "output_type": "execute_result"
    }
   ],
   "source": [
    "exp.data_set(3).guid"
   ]
  },
  {
   "cell_type": "code",
   "execution_count": 10,
   "metadata": {
    "execution": {
     "iopub.execute_input": "2025-10-27T15:37:10.122803Z",
     "iopub.status.busy": "2025-10-27T15:37:10.122594Z",
     "iopub.status.idle": "2025-10-27T15:37:10.127209Z",
     "shell.execute_reply": "2025-10-27T15:37:10.126314Z"
    }
   },
   "outputs": [
    {
     "data": {
      "text/plain": [
       "'235e55a9-0000-0000-0000-019a2650f05f'"
      ]
     },
     "execution_count": 10,
     "metadata": {},
     "output_type": "execute_result"
    }
   ],
   "source": [
    "target_exp.data_set(1).guid"
   ]
  },
  {
   "cell_type": "markdown",
   "metadata": {},
   "source": [
    "Furthermore, note that the original `run_id` preserved as `captured_run_id`. We will demonstrate below how to look up data via the `captured_run_id`."
   ]
  },
  {
   "cell_type": "code",
   "execution_count": 11,
   "metadata": {
    "execution": {
     "iopub.execute_input": "2025-10-27T15:37:10.128811Z",
     "iopub.status.busy": "2025-10-27T15:37:10.128655Z",
     "iopub.status.idle": "2025-10-27T15:37:10.133238Z",
     "shell.execute_reply": "2025-10-27T15:37:10.132375Z"
    }
   },
   "outputs": [
    {
     "data": {
      "text/plain": [
       "3"
      ]
     },
     "execution_count": 11,
     "metadata": {},
     "output_type": "execute_result"
    }
   ],
   "source": [
    "target_exp.data_set(1).captured_run_id"
   ]
  },
  {
   "cell_type": "markdown",
   "metadata": {},
   "source": [
    "## Merging data from 2 databases"
   ]
  },
  {
   "cell_type": "markdown",
   "metadata": {},
   "source": [
    "There are occasions where it is convenient to combine data from several databases."
   ]
  },
  {
   "cell_type": "markdown",
   "metadata": {},
   "source": [
    "Let's first demonstrate this by creating some new experiments in another db file."
   ]
  },
  {
   "cell_type": "code",
   "execution_count": 12,
   "metadata": {
    "execution": {
     "iopub.execute_input": "2025-10-27T15:37:10.134849Z",
     "iopub.status.busy": "2025-10-27T15:37:10.134700Z",
     "iopub.status.idle": "2025-10-27T15:37:10.137536Z",
     "shell.execute_reply": "2025-10-27T15:37:10.136751Z"
    }
   },
   "outputs": [],
   "source": [
    "extra_source_path = (\n",
    "    Path.cwd().parent / \"example_output\" / \"extract_runs_notebook_source_aux.db\"\n",
    ")"
   ]
  },
  {
   "cell_type": "code",
   "execution_count": 13,
   "metadata": {
    "execution": {
     "iopub.execute_input": "2025-10-27T15:37:10.139107Z",
     "iopub.status.busy": "2025-10-27T15:37:10.138895Z",
     "iopub.status.idle": "2025-10-27T15:37:10.161277Z",
     "shell.execute_reply": "2025-10-27T15:37:10.160474Z"
    }
   },
   "outputs": [],
   "source": [
    "source_extra_conn = connect(extra_source_path)"
   ]
  },
  {
   "cell_type": "code",
   "execution_count": 14,
   "metadata": {
    "execution": {
     "iopub.execute_input": "2025-10-27T15:37:10.163289Z",
     "iopub.status.busy": "2025-10-27T15:37:10.163130Z",
     "iopub.status.idle": "2025-10-27T15:37:10.167677Z",
     "shell.execute_reply": "2025-10-27T15:37:10.166789Z"
    }
   },
   "outputs": [],
   "source": [
    "exp = load_or_create_experiment(\n",
    "    experiment_name=\"extract_runs_experiment_aux\",\n",
    "    sample_name=\"no_sample\",\n",
    "    conn=source_extra_conn,\n",
    ")"
   ]
  },
  {
   "cell_type": "code",
   "execution_count": 15,
   "metadata": {
    "execution": {
     "iopub.execute_input": "2025-10-27T15:37:10.169362Z",
     "iopub.status.busy": "2025-10-27T15:37:10.169094Z",
     "iopub.status.idle": "2025-10-27T15:37:10.317095Z",
     "shell.execute_reply": "2025-10-27T15:37:10.315765Z"
    }
   },
   "outputs": [
    {
     "name": "stdout",
     "output_type": "stream",
     "text": [
      "Starting experimental run with id: 1. \n",
      "Starting experimental run with id: 2. \n",
      "Starting experimental run with id: 3. \n",
      "Starting experimental run with id: 4. \n",
      "Starting experimental run with id: 5. \n",
      "Starting experimental run with id: 6. \n",
      "Starting experimental run with id: 7. \n",
      "Starting experimental run with id: 8. \n",
      "Starting experimental run with id: 9. \n",
      "Starting experimental run with id: 10. \n"
     ]
    }
   ],
   "source": [
    "meas = Measurement(exp=exp)\n",
    "meas.register_parameter(my_inst.current)\n",
    "meas.register_parameter(my_inst.voltage, setpoints=(my_inst.current,))\n",
    "\n",
    "# Add 10 runs with gradually more and more data\n",
    "\n",
    "for run_id in range(1, 11):\n",
    "    with meas.run() as datasaver:\n",
    "        for step, noise in enumerate(np.random.randn(run_id)):\n",
    "            datasaver.add_result((my_inst.current, step), (my_inst.voltage, noise))"
   ]
  },
  {
   "cell_type": "code",
   "execution_count": 16,
   "metadata": {
    "execution": {
     "iopub.execute_input": "2025-10-27T15:37:10.318847Z",
     "iopub.status.busy": "2025-10-27T15:37:10.318688Z",
     "iopub.status.idle": "2025-10-27T15:37:10.323218Z",
     "shell.execute_reply": "2025-10-27T15:37:10.322575Z"
    }
   },
   "outputs": [
    {
     "data": {
      "text/plain": [
       "'50477b6a-0000-0000-0000-019a2650f137'"
      ]
     },
     "execution_count": 16,
     "metadata": {},
     "output_type": "execute_result"
    }
   ],
   "source": [
    "exp.data_set(3).guid"
   ]
  },
  {
   "cell_type": "code",
   "execution_count": 17,
   "metadata": {
    "execution": {
     "iopub.execute_input": "2025-10-27T15:37:10.325231Z",
     "iopub.status.busy": "2025-10-27T15:37:10.325085Z",
     "iopub.status.idle": "2025-10-27T15:37:10.334629Z",
     "shell.execute_reply": "2025-10-27T15:37:10.333859Z"
    }
   },
   "outputs": [],
   "source": [
    "extract_runs_into_db(extra_source_path, target_path, 1, 3)"
   ]
  },
  {
   "cell_type": "code",
   "execution_count": 18,
   "metadata": {
    "execution": {
     "iopub.execute_input": "2025-10-27T15:37:10.336364Z",
     "iopub.status.busy": "2025-10-27T15:37:10.336210Z",
     "iopub.status.idle": "2025-10-27T15:37:10.339161Z",
     "shell.execute_reply": "2025-10-27T15:37:10.338356Z"
    }
   },
   "outputs": [],
   "source": [
    "target_exp_aux = load_experiment_by_name(\n",
    "    name=\"extract_runs_experiment_aux\", conn=target_conn\n",
    ")"
   ]
  },
  {
   "cell_type": "markdown",
   "metadata": {},
   "source": [
    "The GUID should be preserved."
   ]
  },
  {
   "cell_type": "code",
   "execution_count": 19,
   "metadata": {
    "execution": {
     "iopub.execute_input": "2025-10-27T15:37:10.341004Z",
     "iopub.status.busy": "2025-10-27T15:37:10.340868Z",
     "iopub.status.idle": "2025-10-27T15:37:10.345519Z",
     "shell.execute_reply": "2025-10-27T15:37:10.344748Z"
    }
   },
   "outputs": [
    {
     "data": {
      "text/plain": [
       "'50477b6a-0000-0000-0000-019a2650f137'"
      ]
     },
     "execution_count": 19,
     "metadata": {},
     "output_type": "execute_result"
    }
   ],
   "source": [
    "target_exp_aux.data_set(2).guid"
   ]
  },
  {
   "cell_type": "markdown",
   "metadata": {},
   "source": [
    "And the original `run_id` is preserved as `captured_run_id` "
   ]
  },
  {
   "cell_type": "code",
   "execution_count": 20,
   "metadata": {
    "execution": {
     "iopub.execute_input": "2025-10-27T15:37:10.347086Z",
     "iopub.status.busy": "2025-10-27T15:37:10.346945Z",
     "iopub.status.idle": "2025-10-27T15:37:10.351435Z",
     "shell.execute_reply": "2025-10-27T15:37:10.350657Z"
    }
   },
   "outputs": [
    {
     "data": {
      "text/plain": [
       "3"
      ]
     },
     "execution_count": 20,
     "metadata": {},
     "output_type": "execute_result"
    }
   ],
   "source": [
    "target_exp_aux.data_set(2).captured_run_id"
   ]
  },
  {
   "cell_type": "markdown",
   "metadata": {},
   "source": [
    "## Uniquely identifying and loading runs\n",
    "\n",
    "As runs move from one database to the other, uniquely identifying a run becomes non-trivial."
   ]
  },
  {
   "cell_type": "markdown",
   "metadata": {},
   "source": [
    "Note how we now have 2 runs in the same DB sharing the same `captured_run_id`. This means that `captured_run_id` is **not** a unique key. We can demonstrate that `captured_run_id` is not unique by looking up the `GUID`s that match this `captured_run_id`."
   ]
  },
  {
   "cell_type": "code",
   "execution_count": 21,
   "metadata": {
    "execution": {
     "iopub.execute_input": "2025-10-27T15:37:10.353141Z",
     "iopub.status.busy": "2025-10-27T15:37:10.352918Z",
     "iopub.status.idle": "2025-10-27T15:37:10.356533Z",
     "shell.execute_reply": "2025-10-27T15:37:10.355732Z"
    }
   },
   "outputs": [],
   "source": [
    "from qcodes.dataset import get_guids_by_run_spec, load_by_guid, load_by_run_spec"
   ]
  },
  {
   "cell_type": "code",
   "execution_count": 22,
   "metadata": {
    "execution": {
     "iopub.execute_input": "2025-10-27T15:37:10.358160Z",
     "iopub.status.busy": "2025-10-27T15:37:10.357889Z",
     "iopub.status.idle": "2025-10-27T15:37:10.362064Z",
     "shell.execute_reply": "2025-10-27T15:37:10.361290Z"
    }
   },
   "outputs": [
    {
     "data": {
      "text/plain": [
       "['235e55a9-0000-0000-0000-019a2650f05f',\n",
       " '50477b6a-0000-0000-0000-019a2650f137']"
      ]
     },
     "execution_count": 22,
     "metadata": {},
     "output_type": "execute_result"
    }
   ],
   "source": [
    "guids = get_guids_by_run_spec(conn=target_conn, captured_run_id=3)\n",
    "guids"
   ]
  },
  {
   "cell_type": "code",
   "execution_count": 23,
   "metadata": {
    "execution": {
     "iopub.execute_input": "2025-10-27T15:37:10.363457Z",
     "iopub.status.busy": "2025-10-27T15:37:10.363320Z",
     "iopub.status.idle": "2025-10-27T15:37:10.368071Z",
     "shell.execute_reply": "2025-10-27T15:37:10.367243Z"
    }
   },
   "outputs": [
    {
     "data": {
      "text/plain": [
       "results #1@/home/runner/work/Qcodes/Qcodes/docs/examples/example_output/extract_runs_notebook_target.db\n",
       "-------------------------------------------------------------------------------------------------------\n",
       "my_inst_voltage - numeric\n",
       "my_inst_current - numeric"
      ]
     },
     "execution_count": 23,
     "metadata": {},
     "output_type": "execute_result"
    }
   ],
   "source": [
    "load_by_guid(guids[0], conn=target_conn)"
   ]
  },
  {
   "cell_type": "code",
   "execution_count": 24,
   "metadata": {
    "execution": {
     "iopub.execute_input": "2025-10-27T15:37:10.369586Z",
     "iopub.status.busy": "2025-10-27T15:37:10.369422Z",
     "iopub.status.idle": "2025-10-27T15:37:10.373966Z",
     "shell.execute_reply": "2025-10-27T15:37:10.373283Z"
    }
   },
   "outputs": [
    {
     "data": {
      "text/plain": [
       "results #4@/home/runner/work/Qcodes/Qcodes/docs/examples/example_output/extract_runs_notebook_target.db\n",
       "-------------------------------------------------------------------------------------------------------\n",
       "my_inst_current - numeric\n",
       "my_inst_voltage - numeric"
      ]
     },
     "execution_count": 24,
     "metadata": {},
     "output_type": "execute_result"
    }
   ],
   "source": [
    "load_by_guid(guids[1], conn=target_conn)"
   ]
  },
  {
   "cell_type": "markdown",
   "metadata": {},
   "source": [
    "To enable loading of runs that may share the same `captured_run_id`, the function `load_by_run_data` is supplied.\n",
    "This function takes one or more optional sets of metadata. If more than one run matching this information is found the metadata of the matching runs is printed and an error is raised. It is now possible to suply more information to the function to uniquely identify a specific run."
   ]
  },
  {
   "cell_type": "code",
   "execution_count": 25,
   "metadata": {
    "execution": {
     "iopub.execute_input": "2025-10-27T15:37:10.375461Z",
     "iopub.status.busy": "2025-10-27T15:37:10.375322Z",
     "iopub.status.idle": "2025-10-27T15:37:10.382764Z",
     "shell.execute_reply": "2025-10-27T15:37:10.381916Z"
    }
   },
   "outputs": [
    {
     "name": "stdout",
     "output_type": "stream",
     "text": [
      "  captured_run_id    captured_counter  experiment_name              sample_name      location    work_station\n",
      "-----------------  ------------------  ---------------------------  -------------  ----------  --------------\n",
      "                3                   3  extract_runs_experiment      no_sample               0               0\n",
      "                3                   3  extract_runs_experiment_aux  no_sample               0               0\n",
      "Caught a NameError\n"
     ]
    }
   ],
   "source": [
    "try:\n",
    "    load_by_run_spec(captured_run_id=3, conn=target_conn)\n",
    "except NameError:\n",
    "    print(\"Caught a NameError\")"
   ]
  },
  {
   "cell_type": "markdown",
   "metadata": {},
   "source": [
    "To single out one of these two runs, we can thus specify the `experiment_name`:"
   ]
  },
  {
   "cell_type": "code",
   "execution_count": 26,
   "metadata": {
    "execution": {
     "iopub.execute_input": "2025-10-27T15:37:10.384298Z",
     "iopub.status.busy": "2025-10-27T15:37:10.384142Z",
     "iopub.status.idle": "2025-10-27T15:37:10.388916Z",
     "shell.execute_reply": "2025-10-27T15:37:10.388182Z"
    }
   },
   "outputs": [
    {
     "data": {
      "text/plain": [
       "results #4@/home/runner/work/Qcodes/Qcodes/docs/examples/example_output/extract_runs_notebook_target.db\n",
       "-------------------------------------------------------------------------------------------------------\n",
       "my_inst_current - numeric\n",
       "my_inst_voltage - numeric"
      ]
     },
     "execution_count": 26,
     "metadata": {},
     "output_type": "execute_result"
    }
   ],
   "source": [
    "load_by_run_spec(\n",
    "    captured_run_id=3, experiment_name=\"extract_runs_experiment_aux\", conn=target_conn\n",
    ")"
   ]
  },
  {
   "cell_type": "markdown",
   "metadata": {},
   "source": [
    "## Related functionality: export_datasets_and_create_metadata_db\n",
    "\n",
    "QCoDeS also provides another function related to database operations: :func:`qcodes.dataset.export_datasets_and_create_metadata_db`. This function:\n",
    "\n",
    "- Exports all datasets from a source database to NetCDF files\n",
    "- Creates a new metadata-only database (without raw data)\n",
    "- Provides space-efficient storage by offloading data to NetCDF files\n",
    "\n",
    "This is useful when you want to reduce database file sizes while maintaining all metadata in a database format. See the API documentation for more details on usage and parameters."
   ]
  }
 ],
 "metadata": {
  "kernelspec": {
   "display_name": "Python 3 (ipykernel)",
   "language": "python",
   "name": "python3"
  },
  "language_info": {
   "codemirror_mode": {
    "name": "ipython",
    "version": 3
   },
   "file_extension": ".py",
   "mimetype": "text/x-python",
   "name": "python",
   "nbconvert_exporter": "python",
   "pygments_lexer": "ipython3",
   "version": "3.11.13"
  },
  "widgets": {
   "application/vnd.jupyter.widget-state+json": {
    "state": {},
    "version_major": 2,
    "version_minor": 0
   }
  }
 },
 "nbformat": 4,
 "nbformat_minor": 4
}
