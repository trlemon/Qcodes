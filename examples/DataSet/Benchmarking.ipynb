{
 "cells": [
  {
   "cell_type": "markdown",
   "metadata": {},
   "source": [
    "# Dataset Benchmarking\n",
    "\n",
    "This notebook is a behind-the-scenes benchmarking notebook, mainly for use by developers. The recommended way for users to interact with the dataset is via the `Measurement` object and its associated context manager. See the corresponding notebook for a comprehensive toturial on how to use those."
   ]
  },
  {
   "cell_type": "code",
   "execution_count": 1,
   "metadata": {
    "execution": {
     "iopub.execute_input": "2025-10-27T15:34:50.283472Z",
     "iopub.status.busy": "2025-10-27T15:34:50.283246Z",
     "iopub.status.idle": "2025-10-27T15:34:51.007639Z",
     "shell.execute_reply": "2025-10-27T15:34:51.006672Z"
    }
   },
   "outputs": [],
   "source": [
    "%matplotlib inline\n",
    "from pathlib import Path\n",
    "\n",
    "import numpy as np\n",
    "\n",
    "import qcodes as qc\n",
    "from qcodes.dataset import (\n",
    "    ParamSpec,\n",
    "    initialise_or_create_database_at,\n",
    "    load_or_create_experiment,\n",
    "    new_data_set,\n",
    ")"
   ]
  },
  {
   "cell_type": "code",
   "execution_count": 2,
   "metadata": {
    "execution": {
     "iopub.execute_input": "2025-10-27T15:34:51.009453Z",
     "iopub.status.busy": "2025-10-27T15:34:51.009151Z",
     "iopub.status.idle": "2025-10-27T15:34:51.013827Z",
     "shell.execute_reply": "2025-10-27T15:34:51.012956Z"
    }
   },
   "outputs": [
    {
     "data": {
      "text/plain": [
       "'~/experiments.db'"
      ]
     },
     "execution_count": 2,
     "metadata": {},
     "output_type": "execute_result"
    }
   ],
   "source": [
    "qc.config.core.db_location"
   ]
  },
  {
   "cell_type": "code",
   "execution_count": 3,
   "metadata": {
    "execution": {
     "iopub.execute_input": "2025-10-27T15:34:51.015458Z",
     "iopub.status.busy": "2025-10-27T15:34:51.015300Z",
     "iopub.status.idle": "2025-10-27T15:34:51.041902Z",
     "shell.execute_reply": "2025-10-27T15:34:51.040871Z"
    }
   },
   "outputs": [],
   "source": [
    "initialise_or_create_database_at(\n",
    "    Path.cwd().parent / \"example_output\" / \"benchmarking.db\"\n",
    ")"
   ]
  },
  {
   "cell_type": "markdown",
   "metadata": {},
   "source": [
    "## Setup"
   ]
  },
  {
   "cell_type": "code",
   "execution_count": 4,
   "metadata": {
    "execution": {
     "iopub.execute_input": "2025-10-27T15:34:51.043674Z",
     "iopub.status.busy": "2025-10-27T15:34:51.043511Z",
     "iopub.status.idle": "2025-10-27T15:34:51.049523Z",
     "shell.execute_reply": "2025-10-27T15:34:51.048686Z"
    }
   },
   "outputs": [
    {
     "data": {
      "text/plain": [
       "benchmarking#the sample is a lie#1@/home/runner/work/Qcodes/Qcodes/docs/examples/example_output/benchmarking.db\n",
       "---------------------------------------------------------------------------------------------------------------"
      ]
     },
     "execution_count": 4,
     "metadata": {},
     "output_type": "execute_result"
    }
   ],
   "source": [
    "exp = load_or_create_experiment(\"benchmarking\", sample_name=\"the sample is a lie\")\n",
    "exp"
   ]
  },
  {
   "cell_type": "markdown",
   "metadata": {},
   "source": [
    "Now we can create a dataset. Note two things:\n",
    "\n",
    "    - if we don't specfiy a exp_id, but we have an experiment in the experiment container the dataset will go into that one.\n",
    "    - dataset can be created from the experiment object\n",
    "    "
   ]
  },
  {
   "cell_type": "code",
   "execution_count": 5,
   "metadata": {
    "execution": {
     "iopub.execute_input": "2025-10-27T15:34:51.051283Z",
     "iopub.status.busy": "2025-10-27T15:34:51.051110Z",
     "iopub.status.idle": "2025-10-27T15:34:51.059084Z",
     "shell.execute_reply": "2025-10-27T15:34:51.058341Z"
    }
   },
   "outputs": [
    {
     "data": {
      "text/plain": [
       "benchmarking#the sample is a lie#1@/home/runner/work/Qcodes/Qcodes/docs/examples/example_output/benchmarking.db\n",
       "---------------------------------------------------------------------------------------------------------------\n",
       "1-benchmark_data-1-None-0"
      ]
     },
     "execution_count": 5,
     "metadata": {},
     "output_type": "execute_result"
    }
   ],
   "source": [
    "dataSet = new_data_set(\"benchmark_data\", exp_id=exp.exp_id)\n",
    "exp"
   ]
  },
  {
   "cell_type": "markdown",
   "metadata": {},
   "source": [
    "In this benchmark we will assueme that we are doing a 2D loop and investigate the performance implications of writing to the dataset"
   ]
  },
  {
   "cell_type": "code",
   "execution_count": 6,
   "metadata": {
    "execution": {
     "iopub.execute_input": "2025-10-27T15:34:51.060795Z",
     "iopub.status.busy": "2025-10-27T15:34:51.060572Z",
     "iopub.status.idle": "2025-10-27T15:34:51.063567Z",
     "shell.execute_reply": "2025-10-27T15:34:51.062864Z"
    }
   },
   "outputs": [],
   "source": [
    "x_shape = 100\n",
    "y_shape = 100"
   ]
  },
  {
   "cell_type": "markdown",
   "metadata": {},
   "source": [
    "## Baseline: Generate data"
   ]
  },
  {
   "cell_type": "code",
   "execution_count": 7,
   "metadata": {
    "execution": {
     "iopub.execute_input": "2025-10-27T15:34:51.065109Z",
     "iopub.status.busy": "2025-10-27T15:34:51.064967Z",
     "iopub.status.idle": "2025-10-27T15:34:51.079584Z",
     "shell.execute_reply": "2025-10-27T15:34:51.078764Z"
    }
   },
   "outputs": [
    {
     "name": "stdout",
     "output_type": "stream",
     "text": [
      "CPU times: user 10.8 ms, sys: 0 ns, total: 10.8 ms\n",
      "Wall time: 10.7 ms\n"
     ]
    }
   ],
   "source": [
    "%%time\n",
    "for x in range(x_shape):\n",
    "    for y in range(y_shape):\n",
    "        z = np.random.random_sample(1)"
   ]
  },
  {
   "cell_type": "markdown",
   "metadata": {},
   "source": [
    "and store in memory"
   ]
  },
  {
   "cell_type": "code",
   "execution_count": 8,
   "metadata": {
    "execution": {
     "iopub.execute_input": "2025-10-27T15:34:51.081336Z",
     "iopub.status.busy": "2025-10-27T15:34:51.081054Z",
     "iopub.status.idle": "2025-10-27T15:34:51.084384Z",
     "shell.execute_reply": "2025-10-27T15:34:51.083587Z"
    }
   },
   "outputs": [],
   "source": [
    "x_data = np.zeros((x_shape, y_shape))\n",
    "y_data = np.zeros((x_shape, y_shape))\n",
    "z_data = np.zeros((x_shape, y_shape))"
   ]
  },
  {
   "cell_type": "code",
   "execution_count": 9,
   "metadata": {
    "execution": {
     "iopub.execute_input": "2025-10-27T15:34:51.086184Z",
     "iopub.status.busy": "2025-10-27T15:34:51.085955Z",
     "iopub.status.idle": "2025-10-27T15:34:51.100301Z",
     "shell.execute_reply": "2025-10-27T15:34:51.099632Z"
    }
   },
   "outputs": [
    {
     "name": "stdout",
     "output_type": "stream",
     "text": [
      "CPU times: user 10 ms, sys: 0 ns, total: 10 ms\n",
      "Wall time: 9.91 ms\n"
     ]
    }
   ],
   "source": [
    "%%time\n",
    "for x in range(x_shape):\n",
    "    for y in range(y_shape):\n",
    "        x_data[x, y] = x\n",
    "        y_data[x, y] = y\n",
    "        z_data[x, y] = np.random.random_sample()"
   ]
  },
  {
   "cell_type": "markdown",
   "metadata": {},
   "source": [
    "## Add to dataset inside double loop"
   ]
  },
  {
   "cell_type": "code",
   "execution_count": 10,
   "metadata": {
    "execution": {
     "iopub.execute_input": "2025-10-27T15:34:51.102113Z",
     "iopub.status.busy": "2025-10-27T15:34:51.101958Z",
     "iopub.status.idle": "2025-10-27T15:34:51.111439Z",
     "shell.execute_reply": "2025-10-27T15:34:51.110732Z"
    }
   },
   "outputs": [],
   "source": [
    "double_dataset = new_data_set(\n",
    "    \"doubledata\",\n",
    "    exp_id=exp.exp_id,\n",
    "    specs=[\n",
    "        ParamSpec(\"x\", \"numeric\"),\n",
    "        ParamSpec(\"y\", \"numeric\"),\n",
    "        ParamSpec(\"z\", \"numeric\"),\n",
    "    ],\n",
    ")\n",
    "double_dataset.mark_started()"
   ]
  },
  {
   "cell_type": "markdown",
   "metadata": {},
   "source": [
    "Note that this is so slow that we are only doing a 10th of the computation"
   ]
  },
  {
   "cell_type": "code",
   "execution_count": 11,
   "metadata": {
    "execution": {
     "iopub.execute_input": "2025-10-27T15:34:51.112966Z",
     "iopub.status.busy": "2025-10-27T15:34:51.112822Z",
     "iopub.status.idle": "2025-10-27T15:34:51.709784Z",
     "shell.execute_reply": "2025-10-27T15:34:51.709272Z"
    }
   },
   "outputs": [
    {
     "name": "stdout",
     "output_type": "stream",
     "text": [
      "CPU times: user 125 ms, sys: 41.3 ms, total: 166 ms\n",
      "Wall time: 592 ms\n"
     ]
    }
   ],
   "source": [
    "%%time\n",
    "for x in range(x_shape // 10):\n",
    "    for y in range(y_shape):\n",
    "        double_dataset.add_results([{\"x\": x, \"y\": y, \"z\": np.random.random_sample()}])"
   ]
  },
  {
   "cell_type": "markdown",
   "metadata": {},
   "source": [
    "## Add the data in outer loop and store as np array"
   ]
  },
  {
   "cell_type": "code",
   "execution_count": 12,
   "metadata": {
    "execution": {
     "iopub.execute_input": "2025-10-27T15:34:51.712859Z",
     "iopub.status.busy": "2025-10-27T15:34:51.712660Z",
     "iopub.status.idle": "2025-10-27T15:34:51.729181Z",
     "shell.execute_reply": "2025-10-27T15:34:51.728504Z"
    }
   },
   "outputs": [],
   "source": [
    "single_dataset = new_data_set(\n",
    "    \"singledata\",\n",
    "    exp_id=exp.exp_id,\n",
    "    specs=[ParamSpec(\"x\", \"array\"), ParamSpec(\"y\", \"array\"), ParamSpec(\"z\", \"array\")],\n",
    ")\n",
    "single_dataset.mark_started()\n",
    "x_data = np.zeros(y_shape)\n",
    "y_data = np.zeros(y_shape)\n",
    "z_data = np.zeros(y_shape)"
   ]
  },
  {
   "cell_type": "code",
   "execution_count": 13,
   "metadata": {
    "execution": {
     "iopub.execute_input": "2025-10-27T15:34:51.731053Z",
     "iopub.status.busy": "2025-10-27T15:34:51.730736Z",
     "iopub.status.idle": "2025-10-27T15:34:51.805855Z",
     "shell.execute_reply": "2025-10-27T15:34:51.804858Z"
    }
   },
   "outputs": [
    {
     "name": "stdout",
     "output_type": "stream",
     "text": [
      "CPU times: user 41.6 ms, sys: 2.48 ms, total: 44.1 ms\n",
      "Wall time: 70.1 ms\n"
     ]
    },
    {
     "name": "stderr",
     "output_type": "stream",
     "text": [
      "<timed exec>:5: DeprecationWarning: Conversion of an array with ndim > 0 to a scalar is deprecated, and will error in future. Ensure you extract a single element from your array before performing this operation. (Deprecated NumPy 1.25.)\n"
     ]
    }
   ],
   "source": [
    "%%time\n",
    "for x in range(x_shape):\n",
    "    for y in range(y_shape):\n",
    "        x_data[y] = x\n",
    "        y_data[y] = y\n",
    "        z_data[y] = np.random.random_sample(1)\n",
    "    single_dataset.add_results([{\"x\": x_data, \"y\": y_data, \"z\": z_data}])"
   ]
  },
  {
   "cell_type": "markdown",
   "metadata": {},
   "source": [
    "## Save once after loop"
   ]
  },
  {
   "cell_type": "code",
   "execution_count": 14,
   "metadata": {
    "execution": {
     "iopub.execute_input": "2025-10-27T15:34:51.807563Z",
     "iopub.status.busy": "2025-10-27T15:34:51.807385Z",
     "iopub.status.idle": "2025-10-27T15:34:51.815833Z",
     "shell.execute_reply": "2025-10-27T15:34:51.815154Z"
    }
   },
   "outputs": [],
   "source": [
    "zero_dataset = new_data_set(\n",
    "    \"zerodata\",\n",
    "    exp_id=exp.exp_id,\n",
    "    specs=[ParamSpec(\"x\", \"array\"), ParamSpec(\"y\", \"array\"), ParamSpec(\"z\", \"array\")],\n",
    ")\n",
    "zero_dataset.mark_started()\n",
    "x_data = np.zeros((x_shape, y_shape))\n",
    "y_data = np.zeros((x_shape, y_shape))\n",
    "z_data = np.zeros((x_shape, y_shape))"
   ]
  },
  {
   "cell_type": "code",
   "execution_count": 15,
   "metadata": {
    "execution": {
     "iopub.execute_input": "2025-10-27T15:34:51.817925Z",
     "iopub.status.busy": "2025-10-27T15:34:51.817770Z",
     "iopub.status.idle": "2025-10-27T15:34:51.841346Z",
     "shell.execute_reply": "2025-10-27T15:34:51.840840Z"
    }
   },
   "outputs": [
    {
     "name": "stdout",
     "output_type": "stream",
     "text": [
      "CPU times: user 18.1 ms, sys: 1.9 ms, total: 20 ms\n",
      "Wall time: 20.1 ms\n"
     ]
    },
    {
     "name": "stderr",
     "output_type": "stream",
     "text": [
      "<timed exec>:5: DeprecationWarning: Conversion of an array with ndim > 0 to a scalar is deprecated, and will error in future. Ensure you extract a single element from your array before performing this operation. (Deprecated NumPy 1.25.)\n"
     ]
    }
   ],
   "source": [
    "%%time\n",
    "for x in range(x_shape):\n",
    "    for y in range(y_shape):\n",
    "        x_data[x, y] = x\n",
    "        y_data[x, y] = y\n",
    "        z_data[x, y] = np.random.random_sample(1)\n",
    "zero_dataset.add_results([{\"x\": x_data, \"y\": y_data, \"z\": z_data}])"
   ]
  },
  {
   "cell_type": "markdown",
   "metadata": {},
   "source": [
    "## Array parameter"
   ]
  },
  {
   "cell_type": "code",
   "execution_count": 16,
   "metadata": {
    "execution": {
     "iopub.execute_input": "2025-10-27T15:34:51.843382Z",
     "iopub.status.busy": "2025-10-27T15:34:51.843229Z",
     "iopub.status.idle": "2025-10-27T15:34:51.850660Z",
     "shell.execute_reply": "2025-10-27T15:34:51.849878Z"
    }
   },
   "outputs": [],
   "source": [
    "array1D_dataset = new_data_set(\n",
    "    \"array1Ddata\",\n",
    "    exp_id=exp.exp_id,\n",
    "    specs=[ParamSpec(\"x\", \"array\"), ParamSpec(\"y\", \"array\"), ParamSpec(\"z\", \"array\")],\n",
    ")\n",
    "array1D_dataset.mark_started()\n",
    "y_setpoints = np.arange(y_shape)"
   ]
  },
  {
   "cell_type": "code",
   "execution_count": 17,
   "metadata": {
    "execution": {
     "iopub.execute_input": "2025-10-27T15:34:51.852631Z",
     "iopub.status.busy": "2025-10-27T15:34:51.852478Z",
     "iopub.status.idle": "2025-10-27T15:34:54.223308Z",
     "shell.execute_reply": "2025-10-27T15:34:54.222420Z"
    }
   },
   "outputs": [
    {
     "name": "stdout",
     "output_type": "stream",
     "text": [
      "28.8 ms ± 1.46 ms per loop (mean ± std. dev. of 7 runs, 10 loops each)\n"
     ]
    }
   ],
   "source": [
    "%%timeit\n",
    "for x in range(x_shape):\n",
    "    x_data[x, :] = x\n",
    "    array1D_dataset.add_results(\n",
    "        [{\"x\": x_data[x, :], \"y\": y_setpoints, \"z\": np.random.random_sample(y_shape)}]\n",
    "    )"
   ]
  },
  {
   "cell_type": "code",
   "execution_count": 18,
   "metadata": {
    "execution": {
     "iopub.execute_input": "2025-10-27T15:34:54.224828Z",
     "iopub.status.busy": "2025-10-27T15:34:54.224681Z",
     "iopub.status.idle": "2025-10-27T15:34:54.227439Z",
     "shell.execute_reply": "2025-10-27T15:34:54.226873Z"
    }
   },
   "outputs": [],
   "source": [
    "x_data = np.zeros((x_shape, y_shape))\n",
    "y_data = np.zeros((x_shape, y_shape))\n",
    "z_data = np.zeros((x_shape, y_shape))\n",
    "y_setpoints = np.arange(y_shape)"
   ]
  },
  {
   "cell_type": "code",
   "execution_count": 19,
   "metadata": {
    "execution": {
     "iopub.execute_input": "2025-10-27T15:34:54.229096Z",
     "iopub.status.busy": "2025-10-27T15:34:54.228961Z",
     "iopub.status.idle": "2025-10-27T15:34:54.235660Z",
     "shell.execute_reply": "2025-10-27T15:34:54.234941Z"
    }
   },
   "outputs": [],
   "source": [
    "array0D_dataset = new_data_set(\n",
    "    \"array0Ddata\",\n",
    "    exp_id=exp.exp_id,\n",
    "    specs=[ParamSpec(\"x\", \"array\"), ParamSpec(\"y\", \"array\"), ParamSpec(\"z\", \"array\")],\n",
    ")\n",
    "array0D_dataset.mark_started()"
   ]
  },
  {
   "cell_type": "code",
   "execution_count": 20,
   "metadata": {
    "execution": {
     "iopub.execute_input": "2025-10-27T15:34:54.237106Z",
     "iopub.status.busy": "2025-10-27T15:34:54.236935Z",
     "iopub.status.idle": "2025-10-27T15:35:04.579326Z",
     "shell.execute_reply": "2025-10-27T15:35:04.578554Z"
    }
   },
   "outputs": [
    {
     "name": "stdout",
     "output_type": "stream",
     "text": [
      "1.28 ms ± 52.9 μs per loop (mean ± std. dev. of 7 runs, 1,000 loops each)\n"
     ]
    }
   ],
   "source": [
    "%%timeit\n",
    "for x in range(x_shape):\n",
    "    x_data[x, :] = x\n",
    "    y_data[x, :] = y_setpoints\n",
    "    z_data[x, :] = np.random.random_sample(y_shape)\n",
    "array0D_dataset.add_results([{\"x\": x_data, \"y\": y_data, \"z\": z_data}])"
   ]
  },
  {
   "cell_type": "markdown",
   "metadata": {},
   "source": [
    "## Insert many"
   ]
  },
  {
   "cell_type": "code",
   "execution_count": 21,
   "metadata": {
    "execution": {
     "iopub.execute_input": "2025-10-27T15:35:04.580906Z",
     "iopub.status.busy": "2025-10-27T15:35:04.580758Z",
     "iopub.status.idle": "2025-10-27T15:35:04.588992Z",
     "shell.execute_reply": "2025-10-27T15:35:04.588400Z"
    }
   },
   "outputs": [],
   "source": [
    "data = []\n",
    "for i in range(100):\n",
    "    for j in range(100):\n",
    "        data.append({\"x\": i, \"y\": j, \"z\": np.random.random_sample()})"
   ]
  },
  {
   "cell_type": "code",
   "execution_count": 22,
   "metadata": {
    "execution": {
     "iopub.execute_input": "2025-10-27T15:35:04.590598Z",
     "iopub.status.busy": "2025-10-27T15:35:04.590435Z",
     "iopub.status.idle": "2025-10-27T15:35:04.597593Z",
     "shell.execute_reply": "2025-10-27T15:35:04.596773Z"
    }
   },
   "outputs": [],
   "source": [
    "many_Data = new_data_set(\n",
    "    \"many_data\",\n",
    "    exp_id=exp.exp_id,\n",
    "    specs=[\n",
    "        ParamSpec(\"x\", \"numeric\"),\n",
    "        ParamSpec(\"y\", \"numeric\"),\n",
    "        ParamSpec(\"z\", \"numeric\"),\n",
    "    ],\n",
    ")\n",
    "many_Data.mark_started()"
   ]
  },
  {
   "cell_type": "code",
   "execution_count": 23,
   "metadata": {
    "execution": {
     "iopub.execute_input": "2025-10-27T15:35:04.599137Z",
     "iopub.status.busy": "2025-10-27T15:35:04.598905Z",
     "iopub.status.idle": "2025-10-27T15:35:17.837262Z",
     "shell.execute_reply": "2025-10-27T15:35:17.836549Z"
    }
   },
   "outputs": [
    {
     "name": "stdout",
     "output_type": "stream",
     "text": [
      "16.3 ms ± 74.6 μs per loop (mean ± std. dev. of 7 runs, 100 loops each)\n"
     ]
    }
   ],
   "source": [
    "%%timeit\n",
    "many_Data.add_results(data)"
   ]
  }
 ],
 "metadata": {
  "kernelspec": {
   "display_name": ".venv",
   "language": "python",
   "name": "python3"
  },
  "language_info": {
   "codemirror_mode": {
    "name": "ipython",
    "version": 3
   },
   "file_extension": ".py",
   "mimetype": "text/x-python",
   "name": "python",
   "nbconvert_exporter": "python",
   "pygments_lexer": "ipython3",
   "version": "3.11.13"
  },
  "nbsphinx": {
   "timeout": 600
  }
 },
 "nbformat": 4,
 "nbformat_minor": 2
}
