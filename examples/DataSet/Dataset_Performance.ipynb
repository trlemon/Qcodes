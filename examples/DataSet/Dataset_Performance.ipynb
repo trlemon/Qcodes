{
 "cells": [
  {
   "cell_type": "markdown",
   "metadata": {},
   "source": [
    "# DataSet Performance\n",
    "\n",
    "This notebook shows the trade-off between inserting data into a database row-by-row and as binary blobs. Inserting the data row-by-row means that we have direct access to all the data and may perform queries directly on the values of the data. On the other hand, as we shall see, this is much slower than inserting the data directly as binary blobs."
   ]
  },
  {
   "cell_type": "markdown",
   "metadata": {},
   "source": [
    "First, we choose a new location for the database to ensure that we don't add a bunch of benchmarking data to the default one."
   ]
  },
  {
   "cell_type": "code",
   "execution_count": 1,
   "metadata": {
    "execution": {
     "iopub.execute_input": "2025-10-27T15:36:03.231842Z",
     "iopub.status.busy": "2025-10-27T15:36:03.231648Z",
     "iopub.status.idle": "2025-10-27T15:36:03.578363Z",
     "shell.execute_reply": "2025-10-27T15:36:03.577481Z"
    }
   },
   "outputs": [],
   "source": [
    "from pathlib import Path\n",
    "\n",
    "import qcodes as qc\n",
    "\n",
    "qc.config[\"core\"][\"db_location\"] = str(\n",
    "    Path.cwd().parent / \"example_output\" / \"testing.db\"\n",
    ")"
   ]
  },
  {
   "cell_type": "code",
   "execution_count": 2,
   "metadata": {
    "execution": {
     "iopub.execute_input": "2025-10-27T15:36:03.580059Z",
     "iopub.status.busy": "2025-10-27T15:36:03.579796Z",
     "iopub.status.idle": "2025-10-27T15:36:03.878596Z",
     "shell.execute_reply": "2025-10-27T15:36:03.877764Z"
    }
   },
   "outputs": [],
   "source": [
    "%matplotlib inline\n",
    "import time\n",
    "from pathlib import Path\n",
    "\n",
    "import matplotlib.pyplot as plt\n",
    "import numpy as np\n",
    "\n",
    "import qcodes as qc\n",
    "from qcodes.dataset import (\n",
    "    Measurement,\n",
    "    initialise_or_create_database_at,\n",
    "    load_or_create_experiment,\n",
    ")\n",
    "from qcodes.parameters import ManualParameter"
   ]
  },
  {
   "cell_type": "code",
   "execution_count": 3,
   "metadata": {
    "execution": {
     "iopub.execute_input": "2025-10-27T15:36:03.880528Z",
     "iopub.status.busy": "2025-10-27T15:36:03.880212Z",
     "iopub.status.idle": "2025-10-27T15:36:03.906939Z",
     "shell.execute_reply": "2025-10-27T15:36:03.906023Z"
    }
   },
   "outputs": [],
   "source": [
    "initialise_or_create_database_at(\n",
    "    Path.cwd().parent / \"example_output\" / \"dataset_performance.db\"\n",
    ")\n",
    "exp = load_or_create_experiment(experiment_name=\"tutorial_exp\", sample_name=\"no sample\")"
   ]
  },
  {
   "cell_type": "markdown",
   "metadata": {},
   "source": [
    "Here, we define a simple function to benchmark the time it takes to insert n points with either numeric or array data type.\n",
    "We will compare both the time used to call ``add_result`` and the time used for the full measurement."
   ]
  },
  {
   "cell_type": "code",
   "execution_count": 4,
   "metadata": {
    "execution": {
     "iopub.execute_input": "2025-10-27T15:36:03.908544Z",
     "iopub.status.busy": "2025-10-27T15:36:03.908368Z",
     "iopub.status.idle": "2025-10-27T15:36:03.913837Z",
     "shell.execute_reply": "2025-10-27T15:36:03.913027Z"
    }
   },
   "outputs": [],
   "source": [
    "def insert_data(paramtype, npoints, nreps=1):\n",
    "    meas = Measurement(exp=exp)\n",
    "\n",
    "    x1 = ManualParameter(\"x1\")\n",
    "    x2 = ManualParameter(\"x2\")\n",
    "    x3 = ManualParameter(\"x3\")\n",
    "    y1 = ManualParameter(\"y1\")\n",
    "    y2 = ManualParameter(\"y2\")\n",
    "\n",
    "    meas.register_parameter(x1, paramtype=paramtype)\n",
    "    meas.register_parameter(x2, paramtype=paramtype)\n",
    "    meas.register_parameter(x3, paramtype=paramtype)\n",
    "    meas.register_parameter(y1, setpoints=[x1, x2, x3], paramtype=paramtype)\n",
    "    meas.register_parameter(y2, setpoints=[x1, x2, x3], paramtype=paramtype)\n",
    "    start = time.perf_counter()\n",
    "    with meas.run() as datasaver:\n",
    "        start_adding = time.perf_counter()\n",
    "        for i in range(nreps):\n",
    "            datasaver.add_result(\n",
    "                (x1, np.random.rand(npoints)),\n",
    "                (x2, np.random.rand(npoints)),\n",
    "                (x3, np.random.rand(npoints)),\n",
    "                (y1, np.random.rand(npoints)),\n",
    "                (y2, np.random.rand(npoints)),\n",
    "            )\n",
    "        stop_adding = time.perf_counter()\n",
    "        run_id = datasaver.run_id\n",
    "    stop = time.perf_counter()\n",
    "    tot_time = stop - start\n",
    "    add_time = stop_adding - start_adding\n",
    "    return tot_time, add_time, run_id"
   ]
  },
  {
   "cell_type": "markdown",
   "metadata": {},
   "source": [
    "## Comparison between numeric/array data and binary blob"
   ]
  },
  {
   "cell_type": "markdown",
   "metadata": {},
   "source": [
    "### Case1: Short experiment time"
   ]
  },
  {
   "cell_type": "code",
   "execution_count": 5,
   "metadata": {
    "execution": {
     "iopub.execute_input": "2025-10-27T15:36:03.915355Z",
     "iopub.status.busy": "2025-10-27T15:36:03.915205Z",
     "iopub.status.idle": "2025-10-27T15:36:04.301043Z",
     "shell.execute_reply": "2025-10-27T15:36:04.300356Z"
    }
   },
   "outputs": [
    {
     "name": "stdout",
     "output_type": "stream",
     "text": [
      "Starting experimental run with id: 1. \n",
      "Starting experimental run with id: 2. \n",
      "Starting experimental run with id: 3. \n",
      "Starting experimental run with id: 4. \n",
      "Starting experimental run with id: 5. \n",
      "Starting experimental run with id: 6. \n",
      "Starting experimental run with id: 7. \n",
      "Starting experimental run with id: 8. \n",
      "Starting experimental run with id: 9. \n",
      "Starting experimental run with id: 10. \n",
      "Starting experimental run with id: 11. \n"
     ]
    },
    {
     "name": "stdout",
     "output_type": "stream",
     "text": [
      "Starting experimental run with id: 12. \n",
      "Starting experimental run with id: 13. \n",
      "Starting experimental run with id: 14. \n"
     ]
    }
   ],
   "source": [
    "sizes = [1, 500, 1000, 2000, 3000, 4000, 5000]\n",
    "t_numeric = []\n",
    "t_numeric_add = []\n",
    "t_array = []\n",
    "t_array_add = []\n",
    "for size in sizes:\n",
    "    tn, tna, run_id_n = insert_data(\"numeric\", size)\n",
    "    t_numeric.append(tn)\n",
    "    t_numeric_add.append(tna)\n",
    "\n",
    "    ta, taa, run_id_a = insert_data(\"array\", size)\n",
    "    t_array.append(ta)\n",
    "    t_array_add.append(taa)"
   ]
  },
  {
   "cell_type": "code",
   "execution_count": 6,
   "metadata": {
    "execution": {
     "iopub.execute_input": "2025-10-27T15:36:04.302881Z",
     "iopub.status.busy": "2025-10-27T15:36:04.302625Z",
     "iopub.status.idle": "2025-10-27T15:36:04.428020Z",
     "shell.execute_reply": "2025-10-27T15:36:04.427117Z"
    }
   },
   "outputs": [
    {
     "data": {
      "image/png": "[encoded data removed]",
      "text/plain": [
       "<Figure size 640x480 with 1 Axes>"
      ]
     },
     "metadata": {},
     "output_type": "display_data"
    }
   ],
   "source": [
    "fig, ax = plt.subplots(1, 1)\n",
    "ax.plot(sizes, t_numeric, \"o-\", label=\"Inserting row-by-row\")\n",
    "ax.plot(sizes, t_numeric_add, \"o-\", label=\"Inserting row-by-row: add_result only\")\n",
    "ax.plot(sizes, t_array, \"d-\", label=\"Inserting as binary blob\")\n",
    "ax.plot(sizes, t_array_add, \"d-\", label=\"Inserting as binary blob: add_result only\")\n",
    "ax.legend()\n",
    "ax.set_xlabel(\"Array length\")\n",
    "ax.set_ylabel(\"Time (s)\")\n",
    "fig.tight_layout()"
   ]
  },
  {
   "cell_type": "markdown",
   "metadata": {},
   "source": [
    "As shown in the latter figure, the time to setup and and close the experiment is approximately 0.4 sec. In case of small array sizes, the difference between inserting values of data as arrays and inserting them row-by-row is relatively unimportant. At larger array sizes, i.e. above 10000 points, the cost of writing data as individual datapoints starts to become important.\n"
   ]
  },
  {
   "cell_type": "markdown",
   "metadata": {},
   "source": [
    "### Case2: Long experiment time "
   ]
  },
  {
   "cell_type": "code",
   "execution_count": 7,
   "metadata": {
    "execution": {
     "iopub.execute_input": "2025-10-27T15:36:04.429797Z",
     "iopub.status.busy": "2025-10-27T15:36:04.429470Z",
     "iopub.status.idle": "2025-10-27T15:36:25.414704Z",
     "shell.execute_reply": "2025-10-27T15:36:25.413940Z"
    }
   },
   "outputs": [
    {
     "name": "stdout",
     "output_type": "stream",
     "text": [
      "Starting experimental run with id: 15. \n",
      "Starting experimental run with id: 16. \n",
      "Starting experimental run with id: 17. \n"
     ]
    },
    {
     "name": "stdout",
     "output_type": "stream",
     "text": [
      "Starting experimental run with id: 18. \n",
      "Starting experimental run with id: 19. \n"
     ]
    },
    {
     "name": "stdout",
     "output_type": "stream",
     "text": [
      "Starting experimental run with id: 20. \n",
      "Starting experimental run with id: 21. \n"
     ]
    },
    {
     "name": "stdout",
     "output_type": "stream",
     "text": [
      "Starting experimental run with id: 22. \n",
      "Starting experimental run with id: 23. \n"
     ]
    },
    {
     "name": "stdout",
     "output_type": "stream",
     "text": [
      "Starting experimental run with id: 24. \n"
     ]
    },
    {
     "name": "stdout",
     "output_type": "stream",
     "text": [
      "Starting experimental run with id: 25. \n"
     ]
    },
    {
     "name": "stdout",
     "output_type": "stream",
     "text": [
      "Starting experimental run with id: 26. \n"
     ]
    },
    {
     "name": "stdout",
     "output_type": "stream",
     "text": [
      "Starting experimental run with id: 27. \n"
     ]
    },
    {
     "name": "stdout",
     "output_type": "stream",
     "text": [
      "Starting experimental run with id: 28. \n"
     ]
    }
   ],
   "source": [
    "sizes = [1, 500, 1000, 2000, 3000, 4000, 5000]\n",
    "nreps = 100\n",
    "t_numeric = []\n",
    "t_numeric_add = []\n",
    "t_numeric_run_ids = []\n",
    "t_array = []\n",
    "t_array_add = []\n",
    "t_array_run_ids = []\n",
    "for size in sizes:\n",
    "    tn, tna, run_id_n = insert_data(\"numeric\", size, nreps=nreps)\n",
    "    t_numeric.append(tn)\n",
    "    t_numeric_add.append(tna)\n",
    "    t_numeric_run_ids.append(run_id_n)\n",
    "\n",
    "    ta, taa, run_id_a = insert_data(\"array\", size, nreps=nreps)\n",
    "    t_array.append(ta)\n",
    "    t_array_add.append(taa)\n",
    "    t_array_run_ids.append(run_id_a)"
   ]
  },
  {
   "cell_type": "code",
   "execution_count": 8,
   "metadata": {
    "execution": {
     "iopub.execute_input": "2025-10-27T15:36:25.416475Z",
     "iopub.status.busy": "2025-10-27T15:36:25.416303Z",
     "iopub.status.idle": "2025-10-27T15:36:25.537990Z",
     "shell.execute_reply": "2025-10-27T15:36:25.537062Z"
    },
    "scrolled": true
   },
   "outputs": [
    {
     "data": {
      "image/png": "[encoded data removed]",
      "text/plain": [
       "<Figure size 640x480 with 1 Axes>"
      ]
     },
     "metadata": {},
     "output_type": "display_data"
    }
   ],
   "source": [
    "fig, ax = plt.subplots(1, 1)\n",
    "ax.plot(sizes, t_numeric, \"o-\", label=\"Inserting row-by-row\")\n",
    "ax.plot(sizes, t_numeric_add, \"o-\", label=\"Inserting row-by-row: add_result only\")\n",
    "ax.plot(sizes, t_array, \"d-\", label=\"Inserting as binary blob\")\n",
    "ax.plot(sizes, t_array_add, \"d-\", label=\"Inserting as binary blob: add_result only\")\n",
    "ax.legend()\n",
    "ax.set_xlabel(\"Array length\")\n",
    "ax.set_ylabel(\"Time (s)\")\n",
    "fig.tight_layout()"
   ]
  },
  {
   "cell_type": "markdown",
   "metadata": {},
   "source": [
    "However, as we increase the length of the experiment, as seen here by repeating the insertion 100 times, we see a big difference between inserting values of the data row-by-row and inserting it as a binary blob."
   ]
  },
  {
   "cell_type": "markdown",
   "metadata": {},
   "source": [
    "## Loading the data "
   ]
  },
  {
   "cell_type": "code",
   "execution_count": 9,
   "metadata": {
    "execution": {
     "iopub.execute_input": "2025-10-27T15:36:25.539801Z",
     "iopub.status.busy": "2025-10-27T15:36:25.539538Z",
     "iopub.status.idle": "2025-10-27T15:36:25.542131Z",
     "shell.execute_reply": "2025-10-27T15:36:25.541555Z"
    }
   },
   "outputs": [],
   "source": [
    "from qcodes.dataset import load_by_id"
   ]
  },
  {
   "cell_type": "markdown",
   "metadata": {},
   "source": [
    "As usual you can load the data by using the ``load_by_id`` function but you will notice that the different storage methods\n",
    "are reflected in shape of the data as it is retrieved. "
   ]
  },
  {
   "cell_type": "code",
   "execution_count": 10,
   "metadata": {
    "execution": {
     "iopub.execute_input": "2025-10-27T15:36:25.543566Z",
     "iopub.status.busy": "2025-10-27T15:36:25.543408Z",
     "iopub.status.idle": "2025-10-27T15:36:25.545903Z",
     "shell.execute_reply": "2025-10-27T15:36:25.545189Z"
    }
   },
   "outputs": [],
   "source": [
    "run_id_n = t_numeric_run_ids[0]\n",
    "run_id_a = t_array_run_ids[0]"
   ]
  },
  {
   "cell_type": "code",
   "execution_count": 11,
   "metadata": {
    "execution": {
     "iopub.execute_input": "2025-10-27T15:36:25.547223Z",
     "iopub.status.busy": "2025-10-27T15:36:25.547085Z",
     "iopub.status.idle": "2025-10-27T15:36:25.554418Z",
     "shell.execute_reply": "2025-10-27T15:36:25.553742Z"
    },
    "scrolled": true
   },
   "outputs": [
    {
     "data": {
      "text/plain": [
       "{'x1': {'x1': array([0.84250909, 0.84250909, 0.32307437, 0.32307437, 0.74178788,\n",
       "         0.74178788, 0.5592213 , 0.5592213 , 0.08917238, 0.08917238,\n",
       "         0.92598777, 0.92598777, 0.95760423, 0.95760423, 0.2843929 ,\n",
       "         0.2843929 , 0.67866578, 0.67866578, 0.02485101, 0.02485101,\n",
       "         0.88972319, 0.88972319, 0.17812308, 0.17812308, 0.76372296,\n",
       "         0.76372296, 0.16507462, 0.16507462, 0.5126511 , 0.5126511 ,\n",
       "         0.1984122 , 0.1984122 , 0.20020265, 0.20020265, 0.76496311,\n",
       "         0.76496311, 0.90671213, 0.90671213, 0.53962818, 0.53962818,\n",
       "         0.1969059 , 0.1969059 , 0.35561526, 0.35561526, 0.27955513,\n",
       "         0.27955513, 0.92660261, 0.92660261, 0.8304603 , 0.8304603 ,\n",
       "         0.88337342, 0.88337342, 0.9352665 , 0.9352665 , 0.58223628,\n",
       "         0.58223628, 0.96457326, 0.96457326, 0.97586204, 0.97586204,\n",
       "         0.5439976 , 0.5439976 , 0.7422865 , 0.7422865 , 0.66294349,\n",
       "         0.66294349, 0.69066592, 0.69066592, 0.49115457, 0.49115457,\n",
       "         0.63699376, 0.63699376, 0.03549624, 0.03549624, 0.27482605,\n",
       "         0.27482605, 0.40075235, 0.40075235, 0.88530058, 0.88530058,\n",
       "         0.61352592, 0.61352592, 0.86209026, 0.86209026, 0.25193578,\n",
       "         0.25193578, 0.88753539, 0.88753539, 0.13915501, 0.13915501,\n",
       "         0.72915852, 0.72915852, 0.83098099, 0.83098099, 0.7473807 ,\n",
       "         0.7473807 , 0.82765345, 0.82765345, 0.96470447, 0.96470447,\n",
       "         0.16559976, 0.16559976, 0.95246696, 0.95246696, 0.17094952,\n",
       "         0.17094952, 0.28689081, 0.28689081, 0.46590747, 0.46590747,\n",
       "         0.60197704, 0.60197704, 0.99185301, 0.99185301, 0.06949721,\n",
       "         0.06949721, 0.85391723, 0.85391723, 0.25307436, 0.25307436,\n",
       "         0.9819486 , 0.9819486 , 0.09504108, 0.09504108, 0.25763056,\n",
       "         0.25763056, 0.88880162, 0.88880162, 0.22387475, 0.22387475,\n",
       "         0.3420523 , 0.3420523 , 0.04822815, 0.04822815, 0.14498593,\n",
       "         0.14498593, 0.90783268, 0.90783268, 0.22931377, 0.22931377,\n",
       "         0.90046691, 0.90046691, 0.62553137, 0.62553137, 0.1489936 ,\n",
       "         0.1489936 , 0.76229453, 0.76229453, 0.96225763, 0.96225763,\n",
       "         0.69978627, 0.69978627, 0.88772092, 0.88772092, 0.42273196,\n",
       "         0.42273196, 0.94039574, 0.94039574, 0.49188368, 0.49188368,\n",
       "         0.85952482, 0.85952482, 0.08320187, 0.08320187, 0.42764619,\n",
       "         0.42764619, 0.38114307, 0.38114307, 0.97042963, 0.97042963,\n",
       "         0.23944252, 0.23944252, 0.46875663, 0.46875663, 0.18569881,\n",
       "         0.18569881, 0.54115515, 0.54115515, 0.50411528, 0.50411528,\n",
       "         0.76364949, 0.76364949, 0.21521355, 0.21521355, 0.74146453,\n",
       "         0.74146453, 0.14807796, 0.14807796, 0.48401832, 0.48401832,\n",
       "         0.4072009 , 0.4072009 , 0.19877543, 0.19877543, 0.67737754,\n",
       "         0.67737754, 0.73325273, 0.73325273, 0.61049545, 0.61049545])}}"
      ]
     },
     "execution_count": 11,
     "metadata": {},
     "output_type": "execute_result"
    }
   ],
   "source": [
    "ds = load_by_id(run_id_n)\n",
    "ds.get_parameter_data(\"x1\")"
   ]
  },
  {
   "cell_type": "markdown",
   "metadata": {},
   "source": [
    "And a dataset stored as binary arrays"
   ]
  },
  {
   "cell_type": "code",
   "execution_count": 12,
   "metadata": {
    "execution": {
     "iopub.execute_input": "2025-10-27T15:36:25.556282Z",
     "iopub.status.busy": "2025-10-27T15:36:25.555991Z",
     "iopub.status.idle": "2025-10-27T15:36:25.570782Z",
     "shell.execute_reply": "2025-10-27T15:36:25.569768Z"
    },
    "scrolled": true
   },
   "outputs": [
    {
     "data": {
      "text/plain": [
       "{'x1': {'x1': array([[0.54205854],\n",
       "         [0.54205854],\n",
       "         [0.45958718],\n",
       "         [0.45958718],\n",
       "         [0.62690294],\n",
       "         [0.62690294],\n",
       "         [0.27345158],\n",
       "         [0.27345158],\n",
       "         [0.28313075],\n",
       "         [0.28313075],\n",
       "         [0.65934568],\n",
       "         [0.65934568],\n",
       "         [0.99590991],\n",
       "         [0.99590991],\n",
       "         [0.82044969],\n",
       "         [0.82044969],\n",
       "         [0.31415753],\n",
       "         [0.31415753],\n",
       "         [0.02375504],\n",
       "         [0.02375504],\n",
       "         [0.54790627],\n",
       "         [0.54790627],\n",
       "         [0.11774948],\n",
       "         [0.11774948],\n",
       "         [0.83671165],\n",
       "         [0.83671165],\n",
       "         [0.04534795],\n",
       "         [0.04534795],\n",
       "         [0.11702824],\n",
       "         [0.11702824],\n",
       "         [0.01875187],\n",
       "         [0.01875187],\n",
       "         [0.82288021],\n",
       "         [0.82288021],\n",
       "         [0.88908552],\n",
       "         [0.88908552],\n",
       "         [0.83790257],\n",
       "         [0.83790257],\n",
       "         [0.00160487],\n",
       "         [0.00160487],\n",
       "         [0.23584113],\n",
       "         [0.23584113],\n",
       "         [0.48486726],\n",
       "         [0.48486726],\n",
       "         [0.51374892],\n",
       "         [0.51374892],\n",
       "         [0.39876232],\n",
       "         [0.39876232],\n",
       "         [0.20735866],\n",
       "         [0.20735866],\n",
       "         [0.88914526],\n",
       "         [0.88914526],\n",
       "         [0.23410081],\n",
       "         [0.23410081],\n",
       "         [0.22481143],\n",
       "         [0.22481143],\n",
       "         [0.07777523],\n",
       "         [0.07777523],\n",
       "         [0.99968169],\n",
       "         [0.99968169],\n",
       "         [0.02856312],\n",
       "         [0.02856312],\n",
       "         [0.71094232],\n",
       "         [0.71094232],\n",
       "         [0.33456406],\n",
       "         [0.33456406],\n",
       "         [0.88196883],\n",
       "         [0.88196883],\n",
       "         [0.07484842],\n",
       "         [0.07484842],\n",
       "         [0.7049339 ],\n",
       "         [0.7049339 ],\n",
       "         [0.46135581],\n",
       "         [0.46135581],\n",
       "         [0.77845766],\n",
       "         [0.77845766],\n",
       "         [0.5094259 ],\n",
       "         [0.5094259 ],\n",
       "         [0.01704617],\n",
       "         [0.01704617],\n",
       "         [0.4149819 ],\n",
       "         [0.4149819 ],\n",
       "         [0.0577593 ],\n",
       "         [0.0577593 ],\n",
       "         [0.43273153],\n",
       "         [0.43273153],\n",
       "         [0.67588924],\n",
       "         [0.67588924],\n",
       "         [0.8285844 ],\n",
       "         [0.8285844 ],\n",
       "         [0.72890843],\n",
       "         [0.72890843],\n",
       "         [0.68366421],\n",
       "         [0.68366421],\n",
       "         [0.27280795],\n",
       "         [0.27280795],\n",
       "         [0.25758762],\n",
       "         [0.25758762],\n",
       "         [0.36706147],\n",
       "         [0.36706147],\n",
       "         [0.6104651 ],\n",
       "         [0.6104651 ],\n",
       "         [0.36550317],\n",
       "         [0.36550317],\n",
       "         [0.5177612 ],\n",
       "         [0.5177612 ],\n",
       "         [0.2818098 ],\n",
       "         [0.2818098 ],\n",
       "         [0.04531371],\n",
       "         [0.04531371],\n",
       "         [0.87075098],\n",
       "         [0.87075098],\n",
       "         [0.69141939],\n",
       "         [0.69141939],\n",
       "         [0.87155474],\n",
       "         [0.87155474],\n",
       "         [0.2086066 ],\n",
       "         [0.2086066 ],\n",
       "         [0.34749814],\n",
       "         [0.34749814],\n",
       "         [0.56209754],\n",
       "         [0.56209754],\n",
       "         [0.88791568],\n",
       "         [0.88791568],\n",
       "         [0.15488523],\n",
       "         [0.15488523],\n",
       "         [0.67498954],\n",
       "         [0.67498954],\n",
       "         [0.5147049 ],\n",
       "         [0.5147049 ],\n",
       "         [0.237165  ],\n",
       "         [0.237165  ],\n",
       "         [0.29820564],\n",
       "         [0.29820564],\n",
       "         [0.11388881],\n",
       "         [0.11388881],\n",
       "         [0.09452031],\n",
       "         [0.09452031],\n",
       "         [0.17803234],\n",
       "         [0.17803234],\n",
       "         [0.73135105],\n",
       "         [0.73135105],\n",
       "         [0.80652832],\n",
       "         [0.80652832],\n",
       "         [0.84140453],\n",
       "         [0.84140453],\n",
       "         [0.9963666 ],\n",
       "         [0.9963666 ],\n",
       "         [0.95480525],\n",
       "         [0.95480525],\n",
       "         [0.36873289],\n",
       "         [0.36873289],\n",
       "         [0.06132645],\n",
       "         [0.06132645],\n",
       "         [0.70801392],\n",
       "         [0.70801392],\n",
       "         [0.83229997],\n",
       "         [0.83229997],\n",
       "         [0.51053526],\n",
       "         [0.51053526],\n",
       "         [0.14443286],\n",
       "         [0.14443286],\n",
       "         [0.28366586],\n",
       "         [0.28366586],\n",
       "         [0.45930347],\n",
       "         [0.45930347],\n",
       "         [0.6116864 ],\n",
       "         [0.6116864 ],\n",
       "         [0.44931627],\n",
       "         [0.44931627],\n",
       "         [0.90498796],\n",
       "         [0.90498796],\n",
       "         [0.58746476],\n",
       "         [0.58746476],\n",
       "         [0.53678976],\n",
       "         [0.53678976],\n",
       "         [0.46257778],\n",
       "         [0.46257778],\n",
       "         [0.47501284],\n",
       "         [0.47501284],\n",
       "         [0.62721516],\n",
       "         [0.62721516],\n",
       "         [0.70669518],\n",
       "         [0.70669518],\n",
       "         [0.58938294],\n",
       "         [0.58938294],\n",
       "         [0.44359455],\n",
       "         [0.44359455],\n",
       "         [0.30050177],\n",
       "         [0.30050177],\n",
       "         [0.64728583],\n",
       "         [0.64728583],\n",
       "         [0.25433054],\n",
       "         [0.25433054],\n",
       "         [0.62018474],\n",
       "         [0.62018474],\n",
       "         [0.76802385],\n",
       "         [0.76802385],\n",
       "         [0.90226828],\n",
       "         [0.90226828]])}}"
      ]
     },
     "execution_count": 12,
     "metadata": {},
     "output_type": "execute_result"
    }
   ],
   "source": [
    "ds = load_by_id(run_id_a)\n",
    "ds.get_parameter_data(\"x1\")"
   ]
  },
  {
   "cell_type": "code",
   "execution_count": null,
   "metadata": {},
   "outputs": [],
   "source": []
  }
 ],
 "metadata": {
  "kernelspec": {
   "display_name": ".venv",
   "language": "python",
   "name": "python3"
  },
  "language_info": {
   "codemirror_mode": {
    "name": "ipython",
    "version": 3
   },
   "file_extension": ".py",
   "mimetype": "text/x-python",
   "name": "python",
   "nbconvert_exporter": "python",
   "pygments_lexer": "ipython3",
   "version": "3.11.13"
  },
  "nbsphinx": {
   "timeout": 600
  },
  "toc": {
   "base_numbering": 1,
   "nav_menu": {},
   "number_sections": true,
   "sideBar": true,
   "skip_h1_title": false,
   "title_cell": "Table of Contents",
   "title_sidebar": "Contents",
   "toc_cell": false,
   "toc_position": {},
   "toc_section_display": true,
   "toc_window_display": false
  },
  "varInspector": {
   "cols": {
    "lenName": 16,
    "lenType": 16,
    "lenVar": 40
   },
   "kernels_config": {
    "python": {
     "delete_cmd_postfix": "",
     "delete_cmd_prefix": "del ",
     "library": "var_list.py",
     "varRefreshCmd": "print(var_dic_list())"
    },
    "r": {
     "delete_cmd_postfix": ") ",
     "delete_cmd_prefix": "rm(",
     "library": "var_list.r",
     "varRefreshCmd": "cat(var_dic_list()) "
    }
   },
   "types_to_exclude": [
    "module",
    "function",
    "builtin_function_or_method",
    "instance",
    "_Feature"
   ],
   "window_display": false
  }
 },
 "nbformat": 4,
 "nbformat_minor": 4
}
