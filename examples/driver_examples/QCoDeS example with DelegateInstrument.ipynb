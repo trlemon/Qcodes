{
 "cells": [
  {
   "cell_type": "markdown",
   "id": "plain-primary",
   "metadata": {},
   "source": [
    "# Qcodes example with DelegateInstrument driver\n",
    "\n",
    "This notebooks explains how to use the `DelegateInstrument` driver.\n",
    "\n",
    "## About\n",
    "The goal of the `DelegateInstrument` driver is to make it easier to combine different parameters together into a new \"virtual\" instrument. Each parameter on a `DelegateInstrument` can point to one or more parameters on other instruments in the station.\n",
    "\n",
    "## Usage\n",
    "The way it's used is mainly by specifying an entry in the station YAML. For instance, let's say you want to use a magnetic field coil. The driver has a method set_field(value, block), that by default is set to block=True, which means the field is ramped in a way that blocks further execution until the desired value is reached. However, let's say you are creating a measurement in which you want the parameter to be set, and while the value is ramping, you want to measure other parameters. This can be done by using `DelegateInstrument` and specifying a custom `setter` for the parameter that gets and sets the magnetic field.\n",
    "\n",
    "By default, each parameter is represented by a `DelegateParameter`. The `DelegateInstrument` also supports passing multiple source parameters to a given parameter. In order to do this, simply specify multiple parameters in the dictionary values  under the `parameters` key.\n",
    "\n",
    "It can also add instrument channels, specified under a separate key `channels`, shown in the second half of the notebook."
   ]
  },
  {
   "cell_type": "code",
   "execution_count": 1,
   "id": "sapphire-quebec",
   "metadata": {
    "execution": {
     "iopub.execute_input": "2025-10-27T15:34:51.606186Z",
     "iopub.status.busy": "2025-10-27T15:34:51.605993Z",
     "iopub.status.idle": "2025-10-27T15:34:51.612840Z",
     "shell.execute_reply": "2025-10-27T15:34:51.611880Z"
    }
   },
   "outputs": [
    {
     "name": "stdout",
     "output_type": "stream",
     "text": [
      "Writing delegate_instrument_example.yaml\n"
     ]
    }
   ],
   "source": [
    "%%writefile delegate_instrument_example.yaml\n",
    "\n",
    "instruments:\n",
    "  field_X:\n",
    "    type: qcodes.instrument_drivers.mock_instruments.MockField\n",
    "\n",
    "  field:\n",
    "    type: qcodes.instrument.delegate.DelegateInstrument\n",
    "    init:\n",
    "      parameters:\n",
    "        X:\n",
    "          - field_X.field\n",
    "        ramp_rate:\n",
    "          - field_X.ramp_rate\n",
    "        combined:\n",
    "          - field_X.field\n",
    "          - field_X.ramp_rate\n",
    "      set_initial_values_on_load: true\n",
    "      initial_values:\n",
    "        ramp_rate: 1.0\n",
    "      setters:\n",
    "        X:\n",
    "          method: field_X.set_field\n",
    "          block: false"
   ]
  },
  {
   "cell_type": "code",
   "execution_count": 2,
   "id": "younger-newspaper",
   "metadata": {
    "execution": {
     "iopub.execute_input": "2025-10-27T15:34:51.614519Z",
     "iopub.status.busy": "2025-10-27T15:34:51.614311Z",
     "iopub.status.idle": "2025-10-27T15:34:52.008907Z",
     "shell.execute_reply": "2025-10-27T15:34:52.007972Z"
    }
   },
   "outputs": [],
   "source": [
    "from pathlib import Path\n",
    "\n",
    "import qcodes as qc\n",
    "from qcodes.dataset import (\n",
    "    Measurement,\n",
    "    initialise_or_create_database_at,\n",
    "    load_or_create_experiment,\n",
    ")"
   ]
  },
  {
   "cell_type": "code",
   "execution_count": 3,
   "id": "muslim-briefs",
   "metadata": {
    "execution": {
     "iopub.execute_input": "2025-10-27T15:34:52.011254Z",
     "iopub.status.busy": "2025-10-27T15:34:52.010859Z",
     "iopub.status.idle": "2025-10-27T15:34:52.031846Z",
     "shell.execute_reply": "2025-10-27T15:34:52.030912Z"
    }
   },
   "outputs": [],
   "source": [
    "station = qc.Station(config_file=\"delegate_instrument_example.yaml\")"
   ]
  },
  {
   "cell_type": "code",
   "execution_count": 4,
   "id": "greatest-antenna",
   "metadata": {
    "execution": {
     "iopub.execute_input": "2025-10-27T15:34:52.033749Z",
     "iopub.status.busy": "2025-10-27T15:34:52.033492Z",
     "iopub.status.idle": "2025-10-27T15:34:52.058847Z",
     "shell.execute_reply": "2025-10-27T15:34:52.057938Z"
    }
   },
   "outputs": [],
   "source": [
    "field_X = station.load_field_X()\n",
    "field = station.load_field(station=station)"
   ]
  },
  {
   "cell_type": "code",
   "execution_count": 5,
   "id": "every-playing",
   "metadata": {
    "execution": {
     "iopub.execute_input": "2025-10-27T15:34:52.060529Z",
     "iopub.status.busy": "2025-10-27T15:34:52.060351Z",
     "iopub.status.idle": "2025-10-27T15:34:52.066185Z",
     "shell.execute_reply": "2025-10-27T15:34:52.065341Z"
    }
   },
   "outputs": [
    {
     "data": {
      "text/plain": [
       "0.0"
      ]
     },
     "execution_count": 5,
     "metadata": {},
     "output_type": "execute_result"
    }
   ],
   "source": [
    "field.X()"
   ]
  },
  {
   "cell_type": "code",
   "execution_count": 6,
   "id": "undefined-worst",
   "metadata": {
    "execution": {
     "iopub.execute_input": "2025-10-27T15:34:52.067690Z",
     "iopub.status.busy": "2025-10-27T15:34:52.067546Z",
     "iopub.status.idle": "2025-10-27T15:34:52.070413Z",
     "shell.execute_reply": "2025-10-27T15:34:52.069605Z"
    }
   },
   "outputs": [],
   "source": [
    "field.X(1.0)"
   ]
  },
  {
   "cell_type": "code",
   "execution_count": 7,
   "id": "recreational-suggestion",
   "metadata": {
    "execution": {
     "iopub.execute_input": "2025-10-27T15:34:52.071917Z",
     "iopub.status.busy": "2025-10-27T15:34:52.071772Z",
     "iopub.status.idle": "2025-10-27T15:34:52.075778Z",
     "shell.execute_reply": "2025-10-27T15:34:52.074997Z"
    }
   },
   "outputs": [
    {
     "data": {
      "text/plain": [
       "6.823142369588216e-05"
      ]
     },
     "execution_count": 7,
     "metadata": {},
     "output_type": "execute_result"
    }
   ],
   "source": [
    "field.X()"
   ]
  },
  {
   "cell_type": "code",
   "execution_count": 8,
   "id": "adopted-exchange",
   "metadata": {
    "execution": {
     "iopub.execute_input": "2025-10-27T15:34:52.077380Z",
     "iopub.status.busy": "2025-10-27T15:34:52.077154Z",
     "iopub.status.idle": "2025-10-27T15:34:52.081215Z",
     "shell.execute_reply": "2025-10-27T15:34:52.080386Z"
    }
   },
   "outputs": [
    {
     "data": {
      "text/plain": [
       "0.00016420284907023113"
      ]
     },
     "execution_count": 8,
     "metadata": {},
     "output_type": "execute_result"
    }
   ],
   "source": [
    "field.X()"
   ]
  },
  {
   "cell_type": "code",
   "execution_count": 9,
   "id": "bound-broadcasting",
   "metadata": {
    "execution": {
     "iopub.execute_input": "2025-10-27T15:34:52.082693Z",
     "iopub.status.busy": "2025-10-27T15:34:52.082543Z",
     "iopub.status.idle": "2025-10-27T15:34:52.086410Z",
     "shell.execute_reply": "2025-10-27T15:34:52.085478Z"
    }
   },
   "outputs": [
    {
     "data": {
      "text/plain": [
       "0.0002479076385498047"
      ]
     },
     "execution_count": 9,
     "metadata": {},
     "output_type": "execute_result"
    }
   ],
   "source": [
    "field.X()"
   ]
  },
  {
   "cell_type": "code",
   "execution_count": 10,
   "id": "casual-ghost",
   "metadata": {
    "execution": {
     "iopub.execute_input": "2025-10-27T15:34:52.088054Z",
     "iopub.status.busy": "2025-10-27T15:34:52.087830Z",
     "iopub.status.idle": "2025-10-27T15:34:52.091874Z",
     "shell.execute_reply": "2025-10-27T15:34:52.091109Z"
    }
   },
   "outputs": [
    {
     "data": {
      "text/plain": [
       "0.0003403782844543457"
      ]
     },
     "execution_count": 10,
     "metadata": {},
     "output_type": "execute_result"
    }
   ],
   "source": [
    "field.X()"
   ]
  },
  {
   "cell_type": "markdown",
   "id": "alike-process",
   "metadata": {},
   "source": [
    "As you can see, the field is now ramped in the background with the specified ramp rate. Now, let's try to create a measurement that uses this ability, and ramps the field in the background while measuring:"
   ]
  },
  {
   "cell_type": "code",
   "execution_count": 11,
   "id": "sustained-tiger",
   "metadata": {
    "execution": {
     "iopub.execute_input": "2025-10-27T15:34:52.093535Z",
     "iopub.status.busy": "2025-10-27T15:34:52.093375Z",
     "iopub.status.idle": "2025-10-27T15:34:52.098178Z",
     "shell.execute_reply": "2025-10-27T15:34:52.097338Z"
    }
   },
   "outputs": [],
   "source": [
    "field.ramp_rate(10.0)\n",
    "field_X.field(0.0)"
   ]
  },
  {
   "cell_type": "code",
   "execution_count": 12,
   "id": "pharmaceutical-partition",
   "metadata": {
    "execution": {
     "iopub.execute_input": "2025-10-27T15:34:52.099786Z",
     "iopub.status.busy": "2025-10-27T15:34:52.099560Z",
     "iopub.status.idle": "2025-10-27T15:34:52.103431Z",
     "shell.execute_reply": "2025-10-27T15:34:52.102666Z"
    }
   },
   "outputs": [
    {
     "data": {
      "text/plain": [
       "0.0"
      ]
     },
     "execution_count": 12,
     "metadata": {},
     "output_type": "execute_result"
    }
   ],
   "source": [
    "field.X()"
   ]
  },
  {
   "cell_type": "code",
   "execution_count": 13,
   "id": "happy-ordinance",
   "metadata": {
    "execution": {
     "iopub.execute_input": "2025-10-27T15:34:52.104903Z",
     "iopub.status.busy": "2025-10-27T15:34:52.104766Z",
     "iopub.status.idle": "2025-10-27T15:34:53.363273Z",
     "shell.execute_reply": "2025-10-27T15:34:53.362479Z"
    }
   },
   "outputs": [
    {
     "name": "stdout",
     "output_type": "stream",
     "text": [
      "Starting experimental run with id: 1. \n"
     ]
    }
   ],
   "source": [
    "import time\n",
    "\n",
    "initialise_or_create_database_at(\n",
    "    Path.cwd().parent / \"example_output\" / \"delegate_instrument_example.db\"\n",
    ")\n",
    "load_or_create_experiment(\"delegate_instrument_experiment\")\n",
    "\n",
    "meas = Measurement(station=station)\n",
    "meas.register_parameter(field.X)\n",
    "\n",
    "with meas.run() as datasaver:\n",
    "    for B in [0.1, 0.0]:\n",
    "        field.X(B)\n",
    "        while field.X() != B:\n",
    "            datasaver.add_result((field.X, field.X()))\n",
    "            time.sleep(0.01)\n",
    "    datasaver.flush_data_to_database()"
   ]
  },
  {
   "cell_type": "code",
   "execution_count": 14,
   "id": "short-medium",
   "metadata": {
    "execution": {
     "iopub.execute_input": "2025-10-27T15:34:53.364997Z",
     "iopub.status.busy": "2025-10-27T15:34:53.364839Z",
     "iopub.status.idle": "2025-10-27T15:34:54.048430Z",
     "shell.execute_reply": "2025-10-27T15:34:54.047710Z"
    }
   },
   "outputs": [
    {
     "data": {
      "text/plain": [
       "<Axes: >"
      ]
     },
     "execution_count": 14,
     "metadata": {},
     "output_type": "execute_result"
    },
    {
     "data": {
      "image/png": "[encoded data removed]",
      "text/plain": [
       "<Figure size 640x480 with 1 Axes>"
      ]
     },
     "metadata": {},
     "output_type": "display_data"
    }
   ],
   "source": [
    "datasaver.dataset.to_pandas_dataframe().plot()"
   ]
  },
  {
   "cell_type": "markdown",
   "id": "incomplete-vietnamese",
   "metadata": {},
   "source": [
    "When specifying multiple source parameters on a given parameter, the grouped parameter will automatically return a `namedtuple` that returns both values."
   ]
  },
  {
   "cell_type": "code",
   "execution_count": 15,
   "id": "dangerous-finder",
   "metadata": {
    "execution": {
     "iopub.execute_input": "2025-10-27T15:34:54.050857Z",
     "iopub.status.busy": "2025-10-27T15:34:54.050400Z",
     "iopub.status.idle": "2025-10-27T15:34:54.055200Z",
     "shell.execute_reply": "2025-10-27T15:34:54.054352Z"
    }
   },
   "outputs": [
    {
     "data": {
      "text/plain": [
       "combined(field=0.0, ramp_rate=10.0)"
      ]
     },
     "execution_count": 15,
     "metadata": {},
     "output_type": "execute_result"
    }
   ],
   "source": [
    "field.combined()"
   ]
  },
  {
   "cell_type": "markdown",
   "id": "consolidated-cooper",
   "metadata": {},
   "source": [
    "We can now also create a custom parameter that does a simple calculation based on the current parameters."
   ]
  },
  {
   "cell_type": "code",
   "execution_count": 16,
   "id": "designed-bloom",
   "metadata": {
    "execution": {
     "iopub.execute_input": "2025-10-27T15:34:54.056845Z",
     "iopub.status.busy": "2025-10-27T15:34:54.056691Z",
     "iopub.status.idle": "2025-10-27T15:34:54.059967Z",
     "shell.execute_reply": "2025-10-27T15:34:54.059178Z"
    }
   },
   "outputs": [],
   "source": [
    "import numpy as np\n",
    "\n",
    "\n",
    "def calculate_ramp_time(X, ramp_rate):\n",
    "    \"\"\"Calculate ramp time in seconds\"\"\"\n",
    "    dfield = np.abs(field.target_field - X)\n",
    "    return 60.0 * dfield / ramp_rate"
   ]
  },
  {
   "cell_type": "code",
   "execution_count": 17,
   "id": "disabled-logic",
   "metadata": {
    "execution": {
     "iopub.execute_input": "2025-10-27T15:34:54.061486Z",
     "iopub.status.busy": "2025-10-27T15:34:54.061333Z",
     "iopub.status.idle": "2025-10-27T15:34:54.064671Z",
     "shell.execute_reply": "2025-10-27T15:34:54.063760Z"
    },
    "scrolled": true
   },
   "outputs": [],
   "source": [
    "field._create_and_add_parameter(\n",
    "    group_name=\"ramp_time\",\n",
    "    station=station,\n",
    "    paths=[\"field_X.field\", \"field_X.ramp_rate\"],\n",
    "    formatter=calculate_ramp_time,\n",
    ")"
   ]
  },
  {
   "cell_type": "code",
   "execution_count": 18,
   "id": "adverse-february",
   "metadata": {
    "execution": {
     "iopub.execute_input": "2025-10-27T15:34:54.066269Z",
     "iopub.status.busy": "2025-10-27T15:34:54.066115Z",
     "iopub.status.idle": "2025-10-27T15:34:54.070278Z",
     "shell.execute_reply": "2025-10-27T15:34:54.069572Z"
    }
   },
   "outputs": [
    {
     "data": {
      "text/plain": [
       "np.float64(6.0)"
      ]
     },
     "execution_count": 18,
     "metadata": {},
     "output_type": "execute_result"
    }
   ],
   "source": [
    "field.ramp_rate(1.0)\n",
    "field.target_field = 0.1\n",
    "field.ramp_time()"
   ]
  },
  {
   "cell_type": "code",
   "execution_count": 19,
   "id": "statutory-xerox",
   "metadata": {
    "execution": {
     "iopub.execute_input": "2025-10-27T15:34:54.072184Z",
     "iopub.status.busy": "2025-10-27T15:34:54.071790Z",
     "iopub.status.idle": "2025-10-27T15:34:54.075051Z",
     "shell.execute_reply": "2025-10-27T15:34:54.074278Z"
    }
   },
   "outputs": [],
   "source": [
    "field.X(0.1)"
   ]
  },
  {
   "cell_type": "code",
   "execution_count": 20,
   "id": "varying-auditor",
   "metadata": {
    "execution": {
     "iopub.execute_input": "2025-10-27T15:34:54.076731Z",
     "iopub.status.busy": "2025-10-27T15:34:54.076513Z",
     "iopub.status.idle": "2025-10-27T15:34:54.080658Z",
     "shell.execute_reply": "2025-10-27T15:34:54.079921Z"
    }
   },
   "outputs": [
    {
     "data": {
      "text/plain": [
       "np.float64(5.995711326599122)"
      ]
     },
     "execution_count": 20,
     "metadata": {},
     "output_type": "execute_result"
    }
   ],
   "source": [
    "field.ramp_time()"
   ]
  },
  {
   "cell_type": "code",
   "execution_count": 21,
   "id": "chubby-nickel",
   "metadata": {
    "execution": {
     "iopub.execute_input": "2025-10-27T15:34:54.082182Z",
     "iopub.status.busy": "2025-10-27T15:34:54.082035Z",
     "iopub.status.idle": "2025-10-27T15:34:55.086915Z",
     "shell.execute_reply": "2025-10-27T15:34:55.086026Z"
    }
   },
   "outputs": [
    {
     "data": {
      "text/plain": [
       "np.float64(4.989955425262451)"
      ]
     },
     "execution_count": 21,
     "metadata": {},
     "output_type": "execute_result"
    }
   ],
   "source": [
    "import time\n",
    "\n",
    "time.sleep(1.0)\n",
    "field.ramp_time()"
   ]
  },
  {
   "cell_type": "code",
   "execution_count": 22,
   "id": "italian-liberty",
   "metadata": {
    "execution": {
     "iopub.execute_input": "2025-10-27T15:34:55.088738Z",
     "iopub.status.busy": "2025-10-27T15:34:55.088462Z",
     "iopub.status.idle": "2025-10-27T15:34:56.093547Z",
     "shell.execute_reply": "2025-10-27T15:34:56.092707Z"
    }
   },
   "outputs": [
    {
     "data": {
      "text/plain": [
       "np.float64(3.983119249343872)"
      ]
     },
     "execution_count": 22,
     "metadata": {},
     "output_type": "execute_result"
    }
   ],
   "source": [
    "import time\n",
    "\n",
    "time.sleep(1.0)\n",
    "field.ramp_time()"
   ]
  },
  {
   "attachments": {},
   "cell_type": "markdown",
   "id": "c1145a2d",
   "metadata": {},
   "source": [
    "## Devices with channels"
   ]
  },
  {
   "cell_type": "markdown",
   "id": "182693f8",
   "metadata": {},
   "source": [
    "The YAML file below specifies the instruments with the channels/parameters we wish to group into a new instrument, here called \"device\". The first example simply adds the channel 'as is' using self.add_submodule, while the readout parameter is added as a DelegateParameter."
   ]
  },
  {
   "cell_type": "code",
   "execution_count": 23,
   "id": "a88d5103",
   "metadata": {
    "execution": {
     "iopub.execute_input": "2025-10-27T15:34:56.095368Z",
     "iopub.status.busy": "2025-10-27T15:34:56.095072Z",
     "iopub.status.idle": "2025-10-27T15:34:56.099083Z",
     "shell.execute_reply": "2025-10-27T15:34:56.098281Z"
    }
   },
   "outputs": [
    {
     "name": "stdout",
     "output_type": "stream",
     "text": [
      "Overwriting delegate_instrument_example.yaml\n"
     ]
    }
   ],
   "source": [
    "%%writefile delegate_instrument_example.yaml\n",
    "\n",
    "instruments:\n",
    "  lockin:\n",
    "    type: qcodes.instrument_drivers.mock_instruments.MockLockin\n",
    "\n",
    "  dac:\n",
    "    type: qcodes.instrument_drivers.mock_instruments.MockDAC\n",
    "\n",
    "  device:\n",
    "    type: qcodes.instrument.delegate.DelegateInstrument\n",
    "    init:\n",
    "      parameters:\n",
    "        readout: lockin.X\n",
    "      channels:\n",
    "        gate_1: dac.ch01\n",
    "      set_initial_values_on_load: true\n",
    "      initial_values:\n",
    "        readout: 1e-5\n",
    "        gate_1.voltage.post_delay: 0.01"
   ]
  },
  {
   "cell_type": "code",
   "execution_count": 24,
   "id": "91f2a8ab",
   "metadata": {
    "execution": {
     "iopub.execute_input": "2025-10-27T15:34:56.100619Z",
     "iopub.status.busy": "2025-10-27T15:34:56.100392Z",
     "iopub.status.idle": "2025-10-27T15:34:56.112972Z",
     "shell.execute_reply": "2025-10-27T15:34:56.112157Z"
    }
   },
   "outputs": [],
   "source": [
    "station = qc.Station(config_file=\"delegate_instrument_example.yaml\")"
   ]
  },
  {
   "cell_type": "code",
   "execution_count": 25,
   "id": "45b22762",
   "metadata": {
    "execution": {
     "iopub.execute_input": "2025-10-27T15:34:56.114935Z",
     "iopub.status.busy": "2025-10-27T15:34:56.114789Z",
     "iopub.status.idle": "2025-10-27T15:34:56.140030Z",
     "shell.execute_reply": "2025-10-27T15:34:56.139235Z"
    }
   },
   "outputs": [],
   "source": [
    "lockin = station.load_lockin()\n",
    "dac = station.load_dac()\n",
    "device = station.load_device(station=station)"
   ]
  },
  {
   "cell_type": "code",
   "execution_count": 26,
   "id": "9bfa54fb",
   "metadata": {
    "execution": {
     "iopub.execute_input": "2025-10-27T15:34:56.141792Z",
     "iopub.status.busy": "2025-10-27T15:34:56.141630Z",
     "iopub.status.idle": "2025-10-27T15:34:56.145133Z",
     "shell.execute_reply": "2025-10-27T15:34:56.144295Z"
    }
   },
   "outputs": [
    {
     "name": "stdout",
     "output_type": "stream",
     "text": [
      "<MockDACChannel: dac_ch01 of MockDAC: dac>\n",
      "0.01\n"
     ]
    }
   ],
   "source": [
    "print(device.gate_1)\n",
    "print(device.gate_1.voltage.post_delay)"
   ]
  },
  {
   "cell_type": "code",
   "execution_count": 27,
   "id": "91d57fe0",
   "metadata": {
    "execution": {
     "iopub.execute_input": "2025-10-27T15:34:56.146634Z",
     "iopub.status.busy": "2025-10-27T15:34:56.146454Z",
     "iopub.status.idle": "2025-10-27T15:34:56.160965Z",
     "shell.execute_reply": "2025-10-27T15:34:56.160135Z"
    }
   },
   "outputs": [
    {
     "name": "stdout",
     "output_type": "stream",
     "text": [
      "0.0\n"
     ]
    },
    {
     "data": {
      "text/plain": [
       "-0.6"
      ]
     },
     "execution_count": 27,
     "metadata": {},
     "output_type": "execute_result"
    }
   ],
   "source": [
    "print(device.gate_1.voltage())\n",
    "device.gate_1.voltage(-0.6)\n",
    "device.gate_1.voltage()"
   ]
  },
  {
   "cell_type": "markdown",
   "id": "37e1c2c3",
   "metadata": {},
   "source": [
    "The second example adds a channel using a custom channel class, which takes the initial channel and its name as input and has a parameter current_valid_ranges."
   ]
  },
  {
   "cell_type": "code",
   "execution_count": 28,
   "id": "7e4becd1",
   "metadata": {
    "execution": {
     "iopub.execute_input": "2025-10-27T15:34:56.162750Z",
     "iopub.status.busy": "2025-10-27T15:34:56.162524Z",
     "iopub.status.idle": "2025-10-27T15:34:56.167424Z",
     "shell.execute_reply": "2025-10-27T15:34:56.166529Z"
    }
   },
   "outputs": [
    {
     "name": "stdout",
     "output_type": "stream",
     "text": [
      "Overwriting delegate_instrument_example.yaml\n"
     ]
    }
   ],
   "source": [
    "%%writefile delegate_instrument_example.yaml\n",
    "\n",
    "instruments:\n",
    "  lockin:\n",
    "    type: qcodes.instrument_drivers.mock_instruments.MockLockin\n",
    "\n",
    "  dac:\n",
    "    type: qcodes.instrument_drivers.mock_instruments.MockDAC\n",
    "\n",
    "  device:\n",
    "    type: qcodes.instrument.delegate.DelegateInstrument\n",
    "    init:\n",
    "      parameters:\n",
    "        readout: lockin.X\n",
    "      channels:\n",
    "        type: qcodes.instrument_drivers.mock_instruments.MockCustomChannel\n",
    "        gate_1:\n",
    "          channel: dac.ch01\n",
    "          current_valid_range: [-0.5, 0]\n",
    "      set_initial_values_on_load: true\n",
    "      initial_values:\n",
    "        readout: 1e-5"
   ]
  },
  {
   "cell_type": "code",
   "execution_count": 29,
   "id": "2e3ca8d5",
   "metadata": {
    "execution": {
     "iopub.execute_input": "2025-10-27T15:34:56.169134Z",
     "iopub.status.busy": "2025-10-27T15:34:56.168975Z",
     "iopub.status.idle": "2025-10-27T15:34:56.171936Z",
     "shell.execute_reply": "2025-10-27T15:34:56.171193Z"
    }
   },
   "outputs": [],
   "source": [
    "lockin.close()\n",
    "dac.close()"
   ]
  },
  {
   "cell_type": "code",
   "execution_count": 30,
   "id": "2f2d2b2b",
   "metadata": {
    "execution": {
     "iopub.execute_input": "2025-10-27T15:34:56.173387Z",
     "iopub.status.busy": "2025-10-27T15:34:56.173241Z",
     "iopub.status.idle": "2025-10-27T15:34:56.197709Z",
     "shell.execute_reply": "2025-10-27T15:34:56.196791Z"
    }
   },
   "outputs": [],
   "source": [
    "station = qc.Station(config_file=\"delegate_instrument_example.yaml\")\n",
    "lockin = station.load_lockin()\n",
    "dac = station.load_dac()"
   ]
  },
  {
   "cell_type": "code",
   "execution_count": 31,
   "id": "9cb653b0",
   "metadata": {
    "execution": {
     "iopub.execute_input": "2025-10-27T15:34:56.199359Z",
     "iopub.status.busy": "2025-10-27T15:34:56.199213Z",
     "iopub.status.idle": "2025-10-27T15:34:56.209200Z",
     "shell.execute_reply": "2025-10-27T15:34:56.208404Z"
    }
   },
   "outputs": [],
   "source": [
    "device = station.load_device(station=station)"
   ]
  },
  {
   "cell_type": "code",
   "execution_count": 32,
   "id": "433d9646",
   "metadata": {
    "execution": {
     "iopub.execute_input": "2025-10-27T15:34:56.211167Z",
     "iopub.status.busy": "2025-10-27T15:34:56.211009Z",
     "iopub.status.idle": "2025-10-27T15:34:56.214639Z",
     "shell.execute_reply": "2025-10-27T15:34:56.213905Z"
    }
   },
   "outputs": [
    {
     "data": {
      "text/plain": [
       "<MockCustomChannel: dac_gate_1 of MockDAC: dac>"
      ]
     },
     "execution_count": 32,
     "metadata": {},
     "output_type": "execute_result"
    }
   ],
   "source": [
    "device.gate_1"
   ]
  },
  {
   "cell_type": "code",
   "execution_count": 33,
   "id": "3d2b8faa",
   "metadata": {
    "execution": {
     "iopub.execute_input": "2025-10-27T15:34:56.216189Z",
     "iopub.status.busy": "2025-10-27T15:34:56.216053Z",
     "iopub.status.idle": "2025-10-27T15:34:56.218804Z",
     "shell.execute_reply": "2025-10-27T15:34:56.218141Z"
    }
   },
   "outputs": [],
   "source": [
    "device.gate_1.voltage(-0.3)"
   ]
  },
  {
   "cell_type": "code",
   "execution_count": 34,
   "id": "49def342",
   "metadata": {
    "execution": {
     "iopub.execute_input": "2025-10-27T15:34:56.220437Z",
     "iopub.status.busy": "2025-10-27T15:34:56.220294Z",
     "iopub.status.idle": "2025-10-27T15:34:56.223908Z",
     "shell.execute_reply": "2025-10-27T15:34:56.223141Z"
    }
   },
   "outputs": [
    {
     "data": {
      "text/plain": [
       "-0.3"
      ]
     },
     "execution_count": 34,
     "metadata": {},
     "output_type": "execute_result"
    }
   ],
   "source": [
    "device.gate_1.voltage()"
   ]
  },
  {
   "cell_type": "markdown",
   "id": "7b122128",
   "metadata": {},
   "source": [
    "The MockCustomChannel has a parameter `current_valid_range`."
   ]
  },
  {
   "cell_type": "code",
   "execution_count": 35,
   "id": "d32a06fd",
   "metadata": {
    "execution": {
     "iopub.execute_input": "2025-10-27T15:34:56.225568Z",
     "iopub.status.busy": "2025-10-27T15:34:56.225376Z",
     "iopub.status.idle": "2025-10-27T15:34:56.229510Z",
     "shell.execute_reply": "2025-10-27T15:34:56.228810Z"
    }
   },
   "outputs": [
    {
     "data": {
      "text/plain": [
       "[-0.5, 0]"
      ]
     },
     "execution_count": 35,
     "metadata": {},
     "output_type": "execute_result"
    }
   ],
   "source": [
    "device.gate_1.current_valid_range()"
   ]
  }
 ],
 "metadata": {
  "kernelspec": {
   "display_name": ".venv",
   "language": "python",
   "name": "python3"
  },
  "language_info": {
   "codemirror_mode": {
    "name": "ipython",
    "version": 3
   },
   "file_extension": ".py",
   "mimetype": "text/x-python",
   "name": "python",
   "nbconvert_exporter": "python",
   "pygments_lexer": "ipython3",
   "version": "3.11.13"
  }
 },
 "nbformat": 4,
 "nbformat_minor": 5
}
